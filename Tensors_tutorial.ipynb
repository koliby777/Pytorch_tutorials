{
  "cells": [
    {
      "cell_type": "markdown",
      "metadata": {
        "id": "view-in-github",
        "colab_type": "text"
      },
      "source": [
        "<a href=\"https://colab.research.google.com/github/koliby777/Pytorch_tutorials/blob/main/Tensors_tutorial.ipynb\" target=\"_parent\"><img src=\"https://colab.research.google.com/assets/colab-badge.svg\" alt=\"Open In Colab\"/></a>"
      ]
    },
    {
      "cell_type": "code",
      "execution_count": null,
      "metadata": {
        "id": "ADJBVI9qOMoC"
      },
      "outputs": [],
      "source": [
        "# For tips on running notebooks in Google Colab, see\n",
        "# https://pytorch.org/tutorials/beginner/colab\n",
        "%matplotlib inline"
      ]
    },
    {
      "cell_type": "markdown",
      "metadata": {
        "id": "_g5ahJ8ROMoE"
      },
      "source": [
        "[Learn the Basics](intro.html) \\|\\|\n",
        "[Quickstart](quickstart_tutorial.html) \\|\\| **Tensors** \\|\\| [Datasets &\n",
        "DataLoaders](data_tutorial.html) \\|\\|\n",
        "[Transforms](transforms_tutorial.html) \\|\\| [Build\n",
        "Model](buildmodel_tutorial.html) \\|\\|\n",
        "[Autograd](autogradqs_tutorial.html) \\|\\|\n",
        "[Optimization](optimization_tutorial.html) \\|\\| [Save & Load\n",
        "Model](saveloadrun_tutorial.html)\n",
        "\n",
        "Tensors\n",
        "=======\n",
        "\n",
        "Tensors are a specialized data structure that are very similar to arrays\n",
        "and matrices. In PyTorch, we use tensors to encode the inputs and\n",
        "outputs of a model, as well as the model's parameters.\n",
        "\n",
        "Tensors are similar to [NumPy's](https://numpy.org/) ndarrays, except\n",
        "that tensors can run on GPUs or other hardware accelerators. In fact,\n",
        "tensors and NumPy arrays can often share the same underlying memory,\n",
        "eliminating the need to copy data (see\n",
        "`bridge-to-np-label`{.interpreted-text role=\"ref\"}). Tensors are also\n",
        "optimized for automatic differentiation (we\\'ll see more about that\n",
        "later in the [Autograd](autogradqs_tutorial.html) section). If you're\n",
        "familiar with ndarrays, you'll be right at home with the Tensor API. If\n",
        "not, follow along!\n"
      ]
    },
    {
      "cell_type": "markdown",
      "source": [
        "# NumPy's ndarrays"
      ],
      "metadata": {
        "id": "VMIg0gF6VuBK"
      }
    },
    {
      "cell_type": "code",
      "source": [
        "import numpy as np\n",
        "a = np.array([1, 2, 3, 4, 5])\n",
        "print(a)\n",
        "# Výstup: [1 2 3 4 5]\n",
        "b = np.array([[1, 2, 3], [4, 5, 6]])\n",
        "print(b)\n",
        "# Výstup:\n",
        "# [[1 2 3]\n",
        "#  [4 5 6]]\n",
        "c = np.array([[[1, 2], [3, 4]], [[5, 6], [7, 8]]])\n",
        "print(c)\n",
        "# Výstup:\n",
        "# [[[1 2]\n",
        "#   [3 4]]\n",
        "#\n",
        "#  [[5 6]\n",
        "#   [7 8]]]\n",
        "print(a[1:4])  # Výstup: [2 3 4]\n",
        "print(b[:, 1])  # Výstup: [2 5]\n",
        "print(a + 10)  # Výstup: [11 12 13 14 15]\n",
        "print(b * 2)  # Výstup:\n",
        "# [[ 2  4  6]\n",
        "#  [ 8 10 12]]\n",
        "print(np.sum(a))  # Výstup: 15\n",
        "print(np.mean(b))  # Výstup: 3.5\n"
      ],
      "metadata": {
        "collapsed": true,
        "id": "YBAQDv23VtyY",
        "outputId": "11fd56a2-d4f1-4f26-9eea-1e360abfb996",
        "colab": {
          "base_uri": "https://localhost:8080/"
        }
      },
      "execution_count": null,
      "outputs": [
        {
          "output_type": "stream",
          "name": "stdout",
          "text": [
            "[1 2 3 4 5]\n",
            "[[1 2 3]\n",
            " [4 5 6]]\n",
            "[[[1 2]\n",
            "  [3 4]]\n",
            "\n",
            " [[5 6]\n",
            "  [7 8]]]\n",
            "[2 3 4]\n",
            "[2 5]\n",
            "[11 12 13 14 15]\n",
            "[[ 2  4  6]\n",
            " [ 8 10 12]]\n",
            "15\n",
            "3.5\n"
          ]
        }
      ]
    },
    {
      "cell_type": "markdown",
      "source": [
        "# Autograd"
      ],
      "metadata": {
        "id": "0eCpdHj2YBfd"
      }
    },
    {
      "cell_type": "code",
      "source": [
        "import torch\n",
        "\n",
        "# Vytvoření tenzoru\n",
        "x = torch.tensor([1.0, 2.0, 3.0], requires_grad=True)\n"
      ],
      "metadata": {
        "id": "SWi9BP6AVs4I"
      },
      "execution_count": null,
      "outputs": []
    },
    {
      "cell_type": "code",
      "source": [
        "print(x)"
      ],
      "metadata": {
        "id": "bnykOyk7YWja",
        "outputId": "07477444-39c3-42c0-f54e-59edc3256d54",
        "colab": {
          "base_uri": "https://localhost:8080/"
        }
      },
      "execution_count": null,
      "outputs": [
        {
          "output_type": "stream",
          "name": "stdout",
          "text": [
            "tensor([1., 2., 3.], requires_grad=True)\n"
          ]
        }
      ]
    },
    {
      "cell_type": "code",
      "source": [
        "# Provádění operací\n",
        "y = x + 2\n",
        "y"
      ],
      "metadata": {
        "id": "Jvxxxg8JZPC6",
        "outputId": "7a116172-2b70-4a48-a408-5b1c292f7007",
        "colab": {
          "base_uri": "https://localhost:8080/"
        }
      },
      "execution_count": null,
      "outputs": [
        {
          "output_type": "execute_result",
          "data": {
            "text/plain": [
              "tensor([3., 4., 5.], grad_fn=<AddBackward0>)"
            ]
          },
          "metadata": {},
          "execution_count": 20
        }
      ]
    },
    {
      "cell_type": "code",
      "source": [
        "z = y * y * 2\n",
        "z"
      ],
      "metadata": {
        "id": "Ghl8eWXnZelZ",
        "outputId": "67504fb2-39a5-4a0d-85c9-2bf0a8b25067",
        "colab": {
          "base_uri": "https://localhost:8080/"
        }
      },
      "execution_count": null,
      "outputs": [
        {
          "output_type": "execute_result",
          "data": {
            "text/plain": [
              "tensor([18., 32., 50.], grad_fn=<MulBackward0>)"
            ]
          },
          "metadata": {},
          "execution_count": 14
        }
      ]
    },
    {
      "cell_type": "code",
      "source": [
        "out = z.mean()\n",
        "print(out)\n"
      ],
      "metadata": {
        "id": "hXTNQQYUYWa-",
        "outputId": "5207d8ba-c89e-4d10-a047-0a3925879f6c",
        "colab": {
          "base_uri": "https://localhost:8080/"
        }
      },
      "execution_count": null,
      "outputs": [
        {
          "output_type": "stream",
          "name": "stdout",
          "text": [
            "tensor(33.3333, grad_fn=<MeanBackward0>)\n"
          ]
        }
      ]
    },
    {
      "cell_type": "code",
      "source": [
        "# Zpětný průchod\n",
        "out.backward()"
      ],
      "metadata": {
        "id": "SywnpB4hYWQa"
      },
      "execution_count": null,
      "outputs": []
    },
    {
      "cell_type": "code",
      "source": [
        "# Gradienty jsou uloženy v .grad\n",
        "print(x.grad)"
      ],
      "metadata": {
        "id": "ka7hj3gQaFuA",
        "outputId": "7e348fea-2d55-443d-9257-68d74aa64fd7",
        "colab": {
          "base_uri": "https://localhost:8080/"
        }
      },
      "execution_count": null,
      "outputs": [
        {
          "output_type": "stream",
          "name": "stdout",
          "text": [
            "tensor([4.0000, 5.3333, 6.6667])\n"
          ]
        }
      ]
    },
    {
      "cell_type": "markdown",
      "source": [
        "jinak ...."
      ],
      "metadata": {
        "id": "pY90bVEwjwDJ"
      }
    },
    {
      "cell_type": "code",
      "source": [
        "x = torch.tensor([0., 1.], requires_grad=True)\n",
        "x"
      ],
      "metadata": {
        "colab": {
          "base_uri": "https://localhost:8080/"
        },
        "id": "aEuZ_cNmjpOZ",
        "outputId": "56690bf9-8974-4605-e71c-7ed9e9e25733"
      },
      "execution_count": null,
      "outputs": [
        {
          "output_type": "execute_result",
          "data": {
            "text/plain": [
              "tensor([0., 1.], requires_grad=True)"
            ]
          },
          "metadata": {},
          "execution_count": 119
        }
      ]
    },
    {
      "cell_type": "code",
      "source": [
        "out = x[0]**3 + x[1]**3\n",
        "out"
      ],
      "metadata": {
        "id": "4P--0mzIYWHK",
        "outputId": "4601929c-8929-4584-b382-dfb30c5ddc3f",
        "colab": {
          "base_uri": "https://localhost:8080/"
        }
      },
      "execution_count": null,
      "outputs": [
        {
          "output_type": "execute_result",
          "data": {
            "text/plain": [
              "tensor(1., grad_fn=<AddBackward0>)"
            ]
          },
          "metadata": {},
          "execution_count": 120
        }
      ]
    },
    {
      "cell_type": "code",
      "source": [
        "out.backward()"
      ],
      "metadata": {
        "collapsed": true,
        "id": "4tzqZRWFaPJ5"
      },
      "execution_count": null,
      "outputs": []
    },
    {
      "cell_type": "code",
      "source": [
        "print(x.grad)"
      ],
      "metadata": {
        "id": "9jxEDcNLbwsc",
        "outputId": "b147e696-f79a-41c4-c9bd-74b04ddb4539",
        "colab": {
          "base_uri": "https://localhost:8080/"
        }
      },
      "execution_count": null,
      "outputs": [
        {
          "output_type": "stream",
          "name": "stdout",
          "text": [
            "tensor([0., 3.])\n"
          ]
        }
      ]
    },
    {
      "cell_type": "markdown",
      "source": [
        "1 rozmer"
      ],
      "metadata": {
        "id": "JZz8uEJmrJQ9"
      }
    },
    {
      "cell_type": "code",
      "source": [
        "x = torch.tensor([1.], requires_grad=True)\n",
        "print(x)\n",
        "out = x[0]**2\n",
        "print(out)\n",
        "out.backward()\n",
        "print(-x.grad)  # menit ve smeru opaku gradientu"
      ],
      "metadata": {
        "colab": {
          "base_uri": "https://localhost:8080/"
        },
        "id": "SWHDqIT4rG6s",
        "outputId": "da7d4b92-a433-41f4-a221-31f2e19d2495"
      },
      "execution_count": null,
      "outputs": [
        {
          "output_type": "stream",
          "name": "stdout",
          "text": [
            "tensor([1.], requires_grad=True)\n",
            "tensor(1., grad_fn=<PowBackward0>)\n",
            "tensor([-2.])\n"
          ]
        }
      ]
    },
    {
      "cell_type": "markdown",
      "source": [
        "# Tensors zde"
      ],
      "metadata": {
        "id": "hWmtqAM7YaoK"
      }
    },
    {
      "cell_type": "code",
      "execution_count": null,
      "metadata": {
        "id": "Nq7vdZp5OMoF"
      },
      "outputs": [],
      "source": [
        "import torch\n",
        "import numpy as np"
      ]
    },
    {
      "cell_type": "markdown",
      "metadata": {
        "id": "lD0VEkepOMoG"
      },
      "source": [
        "Initializing a Tensor\n",
        "=====================\n",
        "\n",
        "Tensors can be initialized in various ways. Take a look at the following\n",
        "examples:\n",
        "\n",
        "**Directly from data**\n",
        "\n",
        "Tensors can be created directly from data. The data type is\n",
        "automatically inferred.\n"
      ]
    },
    {
      "cell_type": "code",
      "execution_count": null,
      "metadata": {
        "id": "oqq-6UlTOMoG",
        "outputId": "26878fb7-7906-4e46-a94a-f9dc649c14d4",
        "colab": {
          "base_uri": "https://localhost:8080/"
        }
      },
      "outputs": [
        {
          "output_type": "execute_result",
          "data": {
            "text/plain": [
              "([[1, 2], [3, 4]],\n",
              " tensor([[1, 2],\n",
              "         [3, 4]]))"
            ]
          },
          "metadata": {},
          "execution_count": 124
        }
      ],
      "source": [
        "data = [[1, 2],[3, 4]]\n",
        "x_data = torch.tensor(data)\n",
        "data, x_data"
      ]
    },
    {
      "cell_type": "markdown",
      "metadata": {
        "id": "L5mfow3AOMoG"
      },
      "source": [
        "**From a NumPy array**\n",
        "\n",
        "Tensors can be created from NumPy arrays (and vice versa - see\n",
        "`bridge-to-np-label`{.interpreted-text role=\"ref\"}).\n"
      ]
    },
    {
      "cell_type": "code",
      "execution_count": null,
      "metadata": {
        "id": "pa--tsmVOMoH",
        "outputId": "1bf4a213-6efa-4092-9f95-5856a0133593",
        "colab": {
          "base_uri": "https://localhost:8080/"
        }
      },
      "outputs": [
        {
          "output_type": "execute_result",
          "data": {
            "text/plain": [
              "(array([[1, 2],\n",
              "        [3, 4]]),\n",
              " tensor([[1, 2],\n",
              "         [3, 4]]))"
            ]
          },
          "metadata": {},
          "execution_count": 125
        }
      ],
      "source": [
        "np_array = np.array(data)\n",
        "x_np = torch.from_numpy(np_array)\n",
        "np_array, x_np"
      ]
    },
    {
      "cell_type": "markdown",
      "metadata": {
        "id": "dnsSKZLLOMoH"
      },
      "source": [
        "**From another tensor:**\n",
        "\n",
        "The new tensor retains the properties (shape, datatype) of the argument\n",
        "tensor, unless explicitly overridden.\n"
      ]
    },
    {
      "cell_type": "code",
      "execution_count": null,
      "metadata": {
        "id": "OspGMwGcOMoH",
        "outputId": "9c464de4-2fa6-4bd1-95f1-5606162e0e67",
        "colab": {
          "base_uri": "https://localhost:8080/"
        }
      },
      "outputs": [
        {
          "output_type": "stream",
          "name": "stdout",
          "text": [
            "Zeros Tensor: \n",
            " tensor([[0, 0],\n",
            "        [0, 0]]) \n",
            "\n",
            "Random Tensor: \n",
            " tensor([[0.2329, 0.2559],\n",
            "        [0.7968, 0.0114]]) \n",
            "\n"
          ]
        }
      ],
      "source": [
        "x_ones = torch.zeros_like(x_data) # retains the properties of x_data\n",
        "print(f\"Zeros Tensor: \\n {x_ones} \\n\")\n",
        "\n",
        "x_rand = torch.rand_like(x_data, dtype=torch.float) # overrides the datatype of x_data\n",
        "print(f\"Random Tensor: \\n {x_rand} \\n\")"
      ]
    },
    {
      "cell_type": "markdown",
      "metadata": {
        "id": "AL8jTLk9OMoH"
      },
      "source": [
        "**With random or constant values:**\n",
        "\n",
        "*`shape` is a tuple of tensor dimensions*. In the functions below, it\n",
        "determines the dimensionality of the output tensor.\n"
      ]
    },
    {
      "cell_type": "code",
      "execution_count": null,
      "metadata": {
        "id": "1VAQfR8cOMoI",
        "outputId": "063ffc8f-6b0c-4ca0-ca0e-0e522b6754d5",
        "colab": {
          "base_uri": "https://localhost:8080/"
        }
      },
      "outputs": [
        {
          "output_type": "stream",
          "name": "stdout",
          "text": [
            "Random Tensor: \n",
            " tensor([[0.1654, 0.3613, 0.3649],\n",
            "        [0.3417, 0.2044, 0.7543]]) \n",
            "\n",
            "Ones Tensor: \n",
            " tensor([[1., 1., 1.],\n",
            "        [1., 1., 1.]]) \n",
            "\n",
            "Zeros Tensor: \n",
            " tensor([[0., 0., 0.],\n",
            "        [0., 0., 0.]])\n"
          ]
        }
      ],
      "source": [
        "shape = (2,3,)  # toto je tuple !!!!!!!\n",
        "\n",
        "rand_tensor = torch.rand(shape)\n",
        "ones_tensor = torch.ones(shape)\n",
        "zeros_tensor = torch.zeros(shape)\n",
        "\n",
        "print(f\"Random Tensor: \\n {rand_tensor} \\n\")\n",
        "print(f\"Ones Tensor: \\n {ones_tensor} \\n\")\n",
        "print(f\"Zeros Tensor: \\n {zeros_tensor}\")"
      ]
    },
    {
      "cell_type": "markdown",
      "metadata": {
        "id": "ZfrGdZijOMoI"
      },
      "source": [
        "------------------------------------------------------------------------\n"
      ]
    },
    {
      "cell_type": "markdown",
      "metadata": {
        "id": "LXelROflOMoI"
      },
      "source": [
        "Attributes of a Tensor\n",
        "======================\n",
        "\n",
        "Tensor attributes describe their shape, datatype, and the device on\n",
        "which they are stored.\n"
      ]
    },
    {
      "cell_type": "code",
      "execution_count": null,
      "metadata": {
        "id": "0p22NS_SOMoI",
        "colab": {
          "base_uri": "https://localhost:8080/"
        },
        "outputId": "666feb98-531e-4aaa-e9cc-356e9bcacaa0"
      },
      "outputs": [
        {
          "output_type": "stream",
          "name": "stdout",
          "text": [
            "tensor([[0.2660, 0.6064, 0.3325, 0.8130],\n",
            "        [0.6854, 0.6583, 0.9934, 0.7450],\n",
            "        [0.0293, 0.1604, 0.2829, 0.1311]])\n",
            "Shape of tensor: torch.Size([3, 4])\n",
            "Datatype of tensor: torch.float32\n",
            "Device tensor is stored on: cpu\n"
          ]
        }
      ],
      "source": [
        "tensor = torch.rand(3,4)\n",
        "print(tensor)\n",
        "print(f\"Shape of tensor: {tensor.shape}\")\n",
        "print(f\"Datatype of tensor: {tensor.dtype}\")\n",
        "print(f\"Device tensor is stored on: {tensor.device}\")"
      ]
    },
    {
      "cell_type": "markdown",
      "metadata": {
        "id": "j5p1D3TLOMoI"
      },
      "source": [
        "------------------------------------------------------------------------\n"
      ]
    },
    {
      "cell_type": "markdown",
      "metadata": {
        "id": "7D-u9El5OMoI"
      },
      "source": [
        "Operations on Tensors\n",
        "=====================\n",
        "\n",
        "Over 100 tensor operations, including arithmetic, linear algebra, matrix\n",
        "manipulation (transposing, indexing, slicing), sampling and more are\n",
        "comprehensively described\n",
        "[here](https://pytorch.org/docs/stable/torch.html).\n",
        "\n",
        "Each of these operations can be run on the GPU (at typically higher\n",
        "speeds than on a CPU). If you're using Colab, allocate a GPU by going to\n",
        "Runtime \\> Change runtime type \\> GPU.\n",
        "\n",
        "By default, tensors are created on the CPU. We need to explicitly move\n",
        "tensors to the GPU using `.to` method (after checking for GPU\n",
        "availability). Keep in mind that copying large tensors across devices\n",
        "can be expensive in terms of time and memory!\n"
      ]
    },
    {
      "cell_type": "code",
      "execution_count": null,
      "metadata": {
        "id": "3wJNzJLaOMoI",
        "colab": {
          "base_uri": "https://localhost:8080/"
        },
        "outputId": "554d22ea-ce90-4c60-e78e-90899c6a312b"
      },
      "outputs": [
        {
          "output_type": "execute_result",
          "data": {
            "text/plain": [
              "False"
            ]
          },
          "metadata": {},
          "execution_count": 4
        }
      ],
      "source": [
        "# We move our tensor to the GPU if available\n",
        "if torch.cuda.is_available():\n",
        "    tensor = tensor.to(\"cuda\")\n",
        "torch.cuda.is_available()"
      ]
    },
    {
      "cell_type": "markdown",
      "metadata": {
        "id": "WwaSsbL0OMoI"
      },
      "source": [
        "Try out some of the operations from the list. If you\\'re familiar with\n",
        "the NumPy API, you\\'ll find the Tensor API a breeze to use.\n"
      ]
    },
    {
      "cell_type": "markdown",
      "metadata": {
        "id": "GgBf_qZAOMoJ"
      },
      "source": [
        "**Standard numpy-like indexing and slicing:**\n"
      ]
    },
    {
      "cell_type": "code",
      "execution_count": null,
      "metadata": {
        "id": "9B0ln8vZOMoJ",
        "colab": {
          "base_uri": "https://localhost:8080/"
        },
        "outputId": "f65d07e7-8f57-4cde-e064-dbddea9677de"
      },
      "outputs": [
        {
          "output_type": "stream",
          "name": "stdout",
          "text": [
            "tensor([[0.6158, 0.8453, 0.6134, 0.9060],\n",
            "        [0.8773, 0.8111, 0.4401, 0.3216],\n",
            "        [0.2296, 0.0506, 0.6183, 0.9318],\n",
            "        [0.9205, 0.2219, 0.2783, 0.1768]])\n",
            "First row: tensor([0.6158, 0.8453, 0.6134, 0.9060])\n",
            "First column: tensor([0.6158, 0.8773, 0.2296, 0.9205])\n",
            "Last column: tensor([0.9060, 0.3216, 0.9318, 0.1768])\n",
            "tensor([[ 0.6158, 10.0000,  0.6134,  0.9060],\n",
            "        [ 0.8773, 10.0000,  0.4401,  0.3216],\n",
            "        [ 0.2296, 10.0000,  0.6183,  0.9318],\n",
            "        [ 0.9205, 10.0000,  0.2783,  0.1768]])\n",
            "tensor([[  0.6158,  10.0000,   0.6134,   0.9060],\n",
            "        [  0.8773,  10.0000,   0.4401,   0.3216],\n",
            "        [-25.0000, -25.0000, -25.0000, -25.0000],\n",
            "        [  0.9205,  10.0000,   0.2783,   0.1768]])\n"
          ]
        }
      ],
      "source": [
        "tensor = torch.rand(4, 4)\n",
        "print(tensor)\n",
        "print(f\"First row: {tensor[0]}\")\n",
        "print(f\"First column: {tensor[:, 0]}\")\n",
        "print(f\"Last column: {tensor[..., -1]}\")\n",
        "tensor[:,1] = 10\n",
        "print(tensor)\n",
        "tensor[2,:] = -25\n",
        "print(tensor)"
      ]
    },
    {
      "cell_type": "markdown",
      "metadata": {
        "id": "7X8OcGcNOMoJ"
      },
      "source": [
        "**Joining tensors** You can use `torch.cat` to concatenate a sequence of\n",
        "tensors along a given dimension. See also\n",
        "[torch.stack](https://pytorch.org/docs/stable/generated/torch.stack.html),\n",
        "another tensor joining operator that is subtly different from\n",
        "`torch.cat`.\n"
      ]
    },
    {
      "cell_type": "code",
      "source": [
        "x = torch.randn(2, 3)\n",
        "print(x)\n",
        "x = torch.stack((x, x)) # same as torch.stack((x, x), dim=0)\n",
        "print(x)\n",
        "\n",
        "x.size()\n",
        "x = torch.stack((x, x), dim=1)\n",
        "print(x)\n",
        "x = torch.stack((x, x), dim=2)\n",
        "print(x)\n",
        "x = torch.stack((x, x), dim=-1)\n",
        "print(x)"
      ],
      "metadata": {
        "colab": {
          "base_uri": "https://localhost:8080/"
        },
        "id": "Rbakv8LKy0CF",
        "outputId": "4311d14b-5ef9-4c7a-9c4e-353b4cad6a74",
        "collapsed": true
      },
      "execution_count": null,
      "outputs": [
        {
          "output_type": "stream",
          "name": "stdout",
          "text": [
            "tensor([[ 0.2419,  0.7840, -1.3979],\n",
            "        [ 0.7964,  0.0590,  0.6285]])\n",
            "tensor([[[ 0.2419,  0.7840, -1.3979],\n",
            "         [ 0.7964,  0.0590,  0.6285]],\n",
            "\n",
            "        [[ 0.2419,  0.7840, -1.3979],\n",
            "         [ 0.7964,  0.0590,  0.6285]]])\n",
            "tensor([[[[ 0.2419,  0.7840, -1.3979],\n",
            "          [ 0.7964,  0.0590,  0.6285]],\n",
            "\n",
            "         [[ 0.2419,  0.7840, -1.3979],\n",
            "          [ 0.7964,  0.0590,  0.6285]]],\n",
            "\n",
            "\n",
            "        [[[ 0.2419,  0.7840, -1.3979],\n",
            "          [ 0.7964,  0.0590,  0.6285]],\n",
            "\n",
            "         [[ 0.2419,  0.7840, -1.3979],\n",
            "          [ 0.7964,  0.0590,  0.6285]]]])\n",
            "tensor([[[[[ 0.2419,  0.7840, -1.3979],\n",
            "           [ 0.7964,  0.0590,  0.6285]],\n",
            "\n",
            "          [[ 0.2419,  0.7840, -1.3979],\n",
            "           [ 0.7964,  0.0590,  0.6285]]],\n",
            "\n",
            "\n",
            "         [[[ 0.2419,  0.7840, -1.3979],\n",
            "           [ 0.7964,  0.0590,  0.6285]],\n",
            "\n",
            "          [[ 0.2419,  0.7840, -1.3979],\n",
            "           [ 0.7964,  0.0590,  0.6285]]]],\n",
            "\n",
            "\n",
            "\n",
            "        [[[[ 0.2419,  0.7840, -1.3979],\n",
            "           [ 0.7964,  0.0590,  0.6285]],\n",
            "\n",
            "          [[ 0.2419,  0.7840, -1.3979],\n",
            "           [ 0.7964,  0.0590,  0.6285]]],\n",
            "\n",
            "\n",
            "         [[[ 0.2419,  0.7840, -1.3979],\n",
            "           [ 0.7964,  0.0590,  0.6285]],\n",
            "\n",
            "          [[ 0.2419,  0.7840, -1.3979],\n",
            "           [ 0.7964,  0.0590,  0.6285]]]]])\n",
            "tensor([[[[[[ 0.2419,  0.2419],\n",
            "            [ 0.7840,  0.7840],\n",
            "            [-1.3979, -1.3979]],\n",
            "\n",
            "           [[ 0.7964,  0.7964],\n",
            "            [ 0.0590,  0.0590],\n",
            "            [ 0.6285,  0.6285]]],\n",
            "\n",
            "\n",
            "          [[[ 0.2419,  0.2419],\n",
            "            [ 0.7840,  0.7840],\n",
            "            [-1.3979, -1.3979]],\n",
            "\n",
            "           [[ 0.7964,  0.7964],\n",
            "            [ 0.0590,  0.0590],\n",
            "            [ 0.6285,  0.6285]]]],\n",
            "\n",
            "\n",
            "\n",
            "         [[[[ 0.2419,  0.2419],\n",
            "            [ 0.7840,  0.7840],\n",
            "            [-1.3979, -1.3979]],\n",
            "\n",
            "           [[ 0.7964,  0.7964],\n",
            "            [ 0.0590,  0.0590],\n",
            "            [ 0.6285,  0.6285]]],\n",
            "\n",
            "\n",
            "          [[[ 0.2419,  0.2419],\n",
            "            [ 0.7840,  0.7840],\n",
            "            [-1.3979, -1.3979]],\n",
            "\n",
            "           [[ 0.7964,  0.7964],\n",
            "            [ 0.0590,  0.0590],\n",
            "            [ 0.6285,  0.6285]]]]],\n",
            "\n",
            "\n",
            "\n",
            "\n",
            "        [[[[[ 0.2419,  0.2419],\n",
            "            [ 0.7840,  0.7840],\n",
            "            [-1.3979, -1.3979]],\n",
            "\n",
            "           [[ 0.7964,  0.7964],\n",
            "            [ 0.0590,  0.0590],\n",
            "            [ 0.6285,  0.6285]]],\n",
            "\n",
            "\n",
            "          [[[ 0.2419,  0.2419],\n",
            "            [ 0.7840,  0.7840],\n",
            "            [-1.3979, -1.3979]],\n",
            "\n",
            "           [[ 0.7964,  0.7964],\n",
            "            [ 0.0590,  0.0590],\n",
            "            [ 0.6285,  0.6285]]]],\n",
            "\n",
            "\n",
            "\n",
            "         [[[[ 0.2419,  0.2419],\n",
            "            [ 0.7840,  0.7840],\n",
            "            [-1.3979, -1.3979]],\n",
            "\n",
            "           [[ 0.7964,  0.7964],\n",
            "            [ 0.0590,  0.0590],\n",
            "            [ 0.6285,  0.6285]]],\n",
            "\n",
            "\n",
            "          [[[ 0.2419,  0.2419],\n",
            "            [ 0.7840,  0.7840],\n",
            "            [-1.3979, -1.3979]],\n",
            "\n",
            "           [[ 0.7964,  0.7964],\n",
            "            [ 0.0590,  0.0590],\n",
            "            [ 0.6285,  0.6285]]]]]])\n"
          ]
        }
      ]
    },
    {
      "cell_type": "code",
      "execution_count": null,
      "metadata": {
        "id": "_AkbjCnIOMoJ",
        "colab": {
          "base_uri": "https://localhost:8080/"
        },
        "outputId": "f8aba62b-45be-412b-b72f-6371a709c69f"
      },
      "outputs": [
        {
          "output_type": "stream",
          "name": "stdout",
          "text": [
            "tensor([[  0.6158,  10.0000,   0.6134,   0.9060,   0.6158,  10.0000,   0.6134,\n",
            "           0.9060,   0.6158,  10.0000,   0.6134,   0.9060],\n",
            "        [  0.8773,  10.0000,   0.4401,   0.3216,   0.8773,  10.0000,   0.4401,\n",
            "           0.3216,   0.8773,  10.0000,   0.4401,   0.3216],\n",
            "        [-25.0000, -25.0000, -25.0000, -25.0000, -25.0000, -25.0000, -25.0000,\n",
            "         -25.0000, -25.0000, -25.0000, -25.0000, -25.0000],\n",
            "        [  0.9205,  10.0000,   0.2783,   0.1768,   0.9205,  10.0000,   0.2783,\n",
            "           0.1768,   0.9205,  10.0000,   0.2783,   0.1768]])\n"
          ]
        }
      ],
      "source": [
        "t1 = torch.cat([tensor, tensor, tensor], dim=1)\n",
        "print(t1)"
      ]
    },
    {
      "cell_type": "markdown",
      "metadata": {
        "id": "WvUn9J3qOMoJ"
      },
      "source": [
        "**Arithmetic operations**\n"
      ]
    },
    {
      "cell_type": "code",
      "source": [
        "tensor = torch.rand(2, 3)\n",
        "print(tensor)\n",
        "print(tensor.T)\n",
        "# This computes the matrix multiplication between two tensors. y1, y2, y3 will have the same value\n",
        "# ``tensor.T`` returns the transpose of a tensor\n",
        "y1 = tensor @ tensor.T\n",
        "y2 = tensor.matmul(tensor.T)\n",
        "print(y1)\n",
        "print(y2)\n",
        "\n",
        "y3 = torch.rand_like(y1)\n",
        "torch.matmul(tensor, tensor.T, out=y3)\n"
      ],
      "metadata": {
        "colab": {
          "base_uri": "https://localhost:8080/"
        },
        "id": "OICEUDN3HRCh",
        "outputId": "66078057-7ceb-4745-f491-640f04b8bf63"
      },
      "execution_count": null,
      "outputs": [
        {
          "output_type": "stream",
          "name": "stdout",
          "text": [
            "tensor([[0.2115, 0.7941, 0.2065],\n",
            "        [0.7364, 0.2007, 0.5058]])\n",
            "tensor([[0.2115, 0.7364],\n",
            "        [0.7941, 0.2007],\n",
            "        [0.2065, 0.5058]])\n",
            "tensor([[0.7181, 0.4196],\n",
            "        [0.4196, 0.8383]])\n",
            "tensor([[0.7181, 0.4196],\n",
            "        [0.4196, 0.8383]])\n"
          ]
        },
        {
          "output_type": "execute_result",
          "data": {
            "text/plain": [
              "tensor([[0.7181, 0.4196],\n",
              "        [0.4196, 0.8383]])"
            ]
          },
          "metadata": {},
          "execution_count": 16
        }
      ]
    },
    {
      "cell_type": "code",
      "execution_count": null,
      "metadata": {
        "id": "UwRLgZ8XOMoJ",
        "colab": {
          "base_uri": "https://localhost:8080/"
        },
        "outputId": "a5661a2a-b784-40f3-af8e-35982a6b28c2"
      },
      "outputs": [
        {
          "output_type": "stream",
          "name": "stdout",
          "text": [
            "tensor([[0.0447, 0.6307, 0.0427],\n",
            "        [0.5422, 0.0403, 0.2559]])\n",
            "tensor([[0.0447, 0.6307, 0.0427],\n",
            "        [0.5422, 0.0403, 0.2559]])\n"
          ]
        },
        {
          "output_type": "execute_result",
          "data": {
            "text/plain": [
              "tensor([[0.0447, 0.6307, 0.0427],\n",
              "        [0.5422, 0.0403, 0.2559]])"
            ]
          },
          "metadata": {},
          "execution_count": 18
        }
      ],
      "source": [
        "\n",
        "\n",
        "# This computes the element-wise product. z1, z2, z3 will have the same value\n",
        "z1 = tensor * tensor\n",
        "z2 = tensor.mul(tensor)\n",
        "print(z1)\n",
        "print(z2)\n",
        "\n",
        "z3 = torch.rand_like(tensor)\n",
        "torch.mul(tensor, tensor, out=z3)"
      ]
    },
    {
      "cell_type": "markdown",
      "metadata": {
        "id": "fHkMNcZ-OMoJ"
      },
      "source": [
        "**Single-element tensors**\n",
        "\n",
        "If you have a one-element tensor, for example\n",
        "by aggregating all values of a tensor into one value, you can convert it\n",
        "to a Python numerical value using `item()`:\n"
      ]
    },
    {
      "cell_type": "code",
      "execution_count": null,
      "metadata": {
        "id": "btSNOYf_OMoJ",
        "colab": {
          "base_uri": "https://localhost:8080/"
        },
        "outputId": "90a4138b-ce9a-4552-9487-4ff80a3033f5"
      },
      "outputs": [
        {
          "output_type": "stream",
          "name": "stdout",
          "text": [
            "tensor([0.9479, 0.9948, 0.7124])\n",
            "2.6550631523132324 <class 'float'>\n"
          ]
        }
      ],
      "source": [
        "sss = sum(tensor)\n",
        "print(sss)\n",
        "agg = tensor.sum()\n",
        "agg_item = agg.item()\n",
        "print(agg_item, type(agg_item))"
      ]
    },
    {
      "cell_type": "markdown",
      "metadata": {
        "id": "_uWwDHAOOMoJ"
      },
      "source": [
        "**In-place operations**\n",
        "\n",
        "Operations that store the result into the\n",
        "operand are called in-place. They are denoted by a `_` suffix. For\n",
        "example: `x.copy_(y)`, `x.t_()`, will change `x`.\n"
      ]
    },
    {
      "cell_type": "code",
      "execution_count": null,
      "metadata": {
        "id": "zyh3bUVpOMoK",
        "colab": {
          "base_uri": "https://localhost:8080/"
        },
        "outputId": "eba58c4a-a9c8-4e02-cf69-5a614d1a60f3"
      },
      "outputs": [
        {
          "output_type": "stream",
          "name": "stdout",
          "text": [
            "tensor([[0.2115, 0.7941, 0.2065],\n",
            "        [0.7364, 0.2007, 0.5058]]) \n",
            "\n",
            "tensor([[5.2115, 5.7941, 5.2065],\n",
            "        [5.7364, 5.2007, 5.5058]])\n"
          ]
        }
      ],
      "source": [
        "print(f\"{tensor} \\n\")\n",
        "tensor.add_(5)\n",
        "print(tensor)"
      ]
    },
    {
      "cell_type": "markdown",
      "metadata": {
        "id": "bn-kpPGrOMoK"
      },
      "source": [
        "<div style=\"background-color: #54c7ec; color: #fff; font-weight: 700; padding-left: 10px; padding-top: 5px; padding-bottom: 5px\"><strong>NOTE:</strong></div>\n",
        "<div style=\"background-color: #f3f4f7; padding-left: 10px; padding-top: 10px; padding-bottom: 10px; padding-right: 10px\">\n",
        "<p>In-place operations save some memory, but can be problematic when computing derivatives because of an immediate lossof history. Hence, their use is discouraged.</p>\n",
        "</div>\n"
      ]
    },
    {
      "cell_type": "markdown",
      "metadata": {
        "id": "bZt_5ZJnOMoK"
      },
      "source": [
        "------------------------------------------------------------------------\n"
      ]
    },
    {
      "cell_type": "markdown",
      "metadata": {
        "id": "kQXnUvY_OMoK"
      },
      "source": [
        "Bridge with NumPy {#bridge-to-np-label}\n",
        "=================\n",
        "\n",
        "Tensors on the CPU and NumPy arrays can share their underlying memory\n",
        "locations, and changing one will change the other.\n"
      ]
    },
    {
      "cell_type": "markdown",
      "metadata": {
        "id": "6H0zl98SOMoK"
      },
      "source": [
        "Tensor to NumPy array\n",
        "=====================\n"
      ]
    },
    {
      "cell_type": "code",
      "execution_count": null,
      "metadata": {
        "id": "mo6oBPmmOMoK",
        "colab": {
          "base_uri": "https://localhost:8080/"
        },
        "outputId": "3ac94c6a-e41b-49fc-b651-a9b779d2c8b3"
      },
      "outputs": [
        {
          "output_type": "stream",
          "name": "stdout",
          "text": [
            "t: tensor([1., 1., 1., 1., 1.])\n",
            "n: [1. 1. 1. 1. 1.]\n"
          ]
        }
      ],
      "source": [
        "t = torch.ones(5)\n",
        "print(f\"t: {t}\")\n",
        "n = t.numpy()\n",
        "print(f\"n: {n}\")"
      ]
    },
    {
      "cell_type": "markdown",
      "metadata": {
        "id": "I359llRgOMoK"
      },
      "source": [
        "A change in the tensor reflects in the NumPy array.\n"
      ]
    },
    {
      "cell_type": "code",
      "execution_count": null,
      "metadata": {
        "id": "UVv8IyR_OMoK",
        "colab": {
          "base_uri": "https://localhost:8080/"
        },
        "outputId": "cadd5adf-e108-4696-f685-1d31f86d7ebd"
      },
      "outputs": [
        {
          "output_type": "stream",
          "name": "stdout",
          "text": [
            "t: tensor([2., 2., 2., 2., 2.])\n",
            "n: [2. 2. 2. 2. 2.]\n"
          ]
        }
      ],
      "source": [
        "t.add_(1)\n",
        "print(f\"t: {t}\")\n",
        "print(f\"n: {n}\")"
      ]
    },
    {
      "cell_type": "markdown",
      "metadata": {
        "id": "XrGnFbHPOMoK"
      },
      "source": [
        "NumPy array to Tensor\n",
        "=====================\n"
      ]
    },
    {
      "cell_type": "code",
      "execution_count": null,
      "metadata": {
        "id": "LXJLdE6GOMoK",
        "colab": {
          "base_uri": "https://localhost:8080/"
        },
        "outputId": "05eb3157-f94f-4da4-db28-9a4a827a4bcc"
      },
      "outputs": [
        {
          "output_type": "execute_result",
          "data": {
            "text/plain": [
              "(array([1., 1., 1., 1., 1.]),\n",
              " tensor([1., 1., 1., 1., 1.], dtype=torch.float64))"
            ]
          },
          "metadata": {},
          "execution_count": 28
        }
      ],
      "source": [
        "n = np.ones(5)\n",
        "t = torch.from_numpy(n)\n",
        "n, t"
      ]
    },
    {
      "cell_type": "markdown",
      "metadata": {
        "id": "4_df6Gz7OMoL"
      },
      "source": [
        "Changes in the NumPy array reflects in the tensor.\n"
      ]
    },
    {
      "cell_type": "code",
      "execution_count": null,
      "metadata": {
        "id": "_eb48xNAOMoL",
        "colab": {
          "base_uri": "https://localhost:8080/"
        },
        "outputId": "38455ba2-2f5c-4a85-8d06-62103f6d0813"
      },
      "outputs": [
        {
          "output_type": "stream",
          "name": "stdout",
          "text": [
            "t: tensor([2., 2., 2., 2., 2.], dtype=torch.float64)\n",
            "n: [2. 2. 2. 2. 2.]\n"
          ]
        }
      ],
      "source": [
        "np.add(n, 1, out=n)\n",
        "print(f\"t: {t}\")\n",
        "print(f\"n: {n}\")"
      ]
    }
  ],
  "metadata": {
    "kernelspec": {
      "display_name": "Python 3",
      "language": "python",
      "name": "python3"
    },
    "language_info": {
      "codemirror_mode": {
        "name": "ipython",
        "version": 3
      },
      "file_extension": ".py",
      "mimetype": "text/x-python",
      "name": "python",
      "nbconvert_exporter": "python",
      "pygments_lexer": "ipython3",
      "version": "3.10.14"
    },
    "colab": {
      "provenance": [],
      "include_colab_link": true
    }
  },
  "nbformat": 4,
  "nbformat_minor": 0
}