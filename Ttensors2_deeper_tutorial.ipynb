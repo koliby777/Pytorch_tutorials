{
  "cells": [
    {
      "cell_type": "markdown",
      "metadata": {
        "id": "view-in-github",
        "colab_type": "text"
      },
      "source": [
        "<a href=\"https://colab.research.google.com/github/koliby777/Pytorch_tutorials/blob/main/Ttensors2_deeper_tutorial.ipynb\" target=\"_parent\"><img src=\"https://colab.research.google.com/assets/colab-badge.svg\" alt=\"Open In Colab\"/></a>"
      ]
    },
    {
      "cell_type": "code",
      "execution_count": 3,
      "metadata": {
        "id": "C8S0Msgoull2"
      },
      "outputs": [],
      "source": [
        "# For tips on running notebooks in Google Colab, see\n",
        "# https://pytorch.org/tutorials/beginner/colab\n",
        "%matplotlib inline"
      ]
    },
    {
      "cell_type": "markdown",
      "metadata": {
        "id": "4V9eWMRNull4"
      },
      "source": [
        "[Introduction](introyt1_tutorial.html) \\|\\| **Tensors** \\|\\|\n",
        "[Autograd](autogradyt_tutorial.html) \\|\\| [Building\n",
        "Models](modelsyt_tutorial.html) \\|\\| [TensorBoard\n",
        "Support](tensorboardyt_tutorial.html) \\|\\| [Training\n",
        "Models](trainingyt.html) \\|\\| [Model Understanding](captumyt.html)\n",
        "\n",
        "Introduction to PyTorch Tensors\n",
        "===============================\n",
        "\n",
        "Follow along with the video below or on\n",
        "[youtube](https://www.youtube.com/watch?v=r7QDUPb2dCM).\n",
        "\n"
      ]
    },
    {
      "cell_type": "code",
      "execution_count": null,
      "metadata": {
        "id": "bccb3ccb",
        "colab": {
          "base_uri": "https://localhost:8080/",
          "height": 356
        },
        "outputId": "953e732b-64f8-407f-88f4-d0bfe7de1a7c"
      },
      "outputs": [
        {
          "output_type": "display_data",
          "data": {
            "text/plain": [
              "<IPython.core.display.HTML object>"
            ],
            "text/html": [
              "\n",
              "<div style=\"margin-top:10px; margin-bottom:10px;\">\n",
              "  <iframe width=\"560\" height=\"315\" src=\"https://www.youtube.com/embed/r7QDUPb2dCM\" frameborder=\"0\" allow=\"accelerometer; encrypted-media; gyroscope; picture-in-picture\" allowfullscreen></iframe>\n",
              "</div>\n"
            ]
          },
          "metadata": {}
        }
      ],
      "source": [
        "# Run this cell to load the video\n",
        "from IPython.display import display, HTML\n",
        "html_code = \"\"\"\n",
        "<div style=\"margin-top:10px; margin-bottom:10px;\">\n",
        "  <iframe width=\"560\" height=\"315\" src=\"https://www.youtube.com/embed/r7QDUPb2dCM\" frameborder=\"0\" allow=\"accelerometer; encrypted-media; gyroscope; picture-in-picture\" allowfullscreen></iframe>\n",
        "</div>\n",
        "\"\"\"\n",
        "display(HTML(html_code))"
      ]
    },
    {
      "cell_type": "markdown",
      "metadata": {
        "id": "9a4f92aa"
      },
      "source": [
        "\n",
        "\n",
        "Tensors are the central data abstraction in PyTorch. This interactive\n",
        "notebook provides an in-depth introduction to the `torch.Tensor` class.\n",
        "\n",
        "First things first, let's import the PyTorch module. We'll also add\n",
        "Python's math module to facilitate some of the examples.\n"
      ]
    },
    {
      "cell_type": "code",
      "execution_count": 4,
      "metadata": {
        "id": "ZZLfBwPTull5"
      },
      "outputs": [],
      "source": [
        "import torch\n",
        "import math"
      ]
    },
    {
      "cell_type": "markdown",
      "metadata": {
        "id": "zwvnYAuOull6"
      },
      "source": [
        "Creating Tensors\n",
        "================\n",
        "\n",
        "The simplest way to create a tensor is with the `torch.empty()` call:\n"
      ]
    },
    {
      "cell_type": "code",
      "execution_count": 5,
      "metadata": {
        "id": "e9Hsc4D2ull6",
        "colab": {
          "base_uri": "https://localhost:8080/"
        },
        "outputId": "33ace678-0fb5-43a4-8ebf-fd98e6fe9fd1"
      },
      "outputs": [
        {
          "output_type": "stream",
          "name": "stdout",
          "text": [
            "<class 'torch.Tensor'>\n",
            "tensor([[ 1.2609e+16,  2.1707e-18,  1.9205e+31,  3.2314e-18],\n",
            "        [ 3.5873e-43,  0.0000e+00,  3.8115e-43,  0.0000e+00],\n",
            "        [-3.0434e-15,  3.1477e-41,  2.9848e-43,  0.0000e+00]])\n"
          ]
        }
      ],
      "source": [
        "x = torch.empty(3, 4)\n",
        "print(type(x))\n",
        "print(x)"
      ]
    },
    {
      "cell_type": "code",
      "source": [
        "x[1,1]"
      ],
      "metadata": {
        "colab": {
          "base_uri": "https://localhost:8080/"
        },
        "id": "6jvJQo8ajudq",
        "outputId": "746aec6a-f32d-4bd7-cdb6-cd493770aea8"
      },
      "execution_count": 6,
      "outputs": [
        {
          "output_type": "execute_result",
          "data": {
            "text/plain": [
              "tensor(0.)"
            ]
          },
          "metadata": {},
          "execution_count": 6
        }
      ]
    },
    {
      "cell_type": "code",
      "source": [
        "random4 = torch.rand(1) # vektor v 1rozm. prostoru\n",
        "print(random4)\n",
        "print(random4.shape)"
      ],
      "metadata": {
        "colab": {
          "base_uri": "https://localhost:8080/"
        },
        "id": "WHuUGybw9mdX",
        "outputId": "5cfb2587-1531-45bb-fe31-5b9e2d9ea76d"
      },
      "execution_count": 37,
      "outputs": [
        {
          "output_type": "stream",
          "name": "stdout",
          "text": [
            "tensor([0.5183])\n",
            "torch.Size([1])\n"
          ]
        }
      ]
    },
    {
      "cell_type": "code",
      "source": [
        "random4 = torch.rand(3) # vektor ve 3rozm. prostoru\n",
        "print(random4)\n",
        "print(random4.shape)"
      ],
      "metadata": {
        "colab": {
          "base_uri": "https://localhost:8080/"
        },
        "id": "NoCmEATc9z2-",
        "outputId": "cc6c272b-6b96-47ce-d4de-8ae1e6c237d3"
      },
      "execution_count": 31,
      "outputs": [
        {
          "output_type": "stream",
          "name": "stdout",
          "text": [
            "tensor([0.4004, 0.9877, 0.0352])\n",
            "torch.Size([3])\n"
          ]
        }
      ]
    },
    {
      "cell_type": "code",
      "source": [
        "random4 = torch.rand(2,3) # matice vektoru ve 3rozm. prostoru\n",
        "print(random4)\n",
        "print(random4.shape)"
      ],
      "metadata": {
        "colab": {
          "base_uri": "https://localhost:8080/"
        },
        "id": "b48lFBJF-Fwg",
        "outputId": "1b113e29-3bcc-4f41-8aff-945123db1de5"
      },
      "execution_count": 35,
      "outputs": [
        {
          "output_type": "stream",
          "name": "stdout",
          "text": [
            "tensor([[0.2330, 0.8441, 0.9004],\n",
            "        [0.3995, 0.6324, 0.9464]])\n",
            "torch.Size([2, 3])\n"
          ]
        }
      ]
    },
    {
      "cell_type": "code",
      "source": [
        "random4 = torch.rand(2,4,2)\n",
        "print(random4)\n",
        "print(random4.shape)"
      ],
      "metadata": {
        "colab": {
          "base_uri": "https://localhost:8080/"
        },
        "id": "Jz74F29-8BEE",
        "outputId": "54cd0759-688b-43fd-f2cf-80f57c7e1155"
      },
      "execution_count": 28,
      "outputs": [
        {
          "output_type": "stream",
          "name": "stdout",
          "text": [
            "tensor([[[0.4007, 0.7220],\n",
            "         [0.8217, 0.2612],\n",
            "         [0.7375, 0.8328],\n",
            "         [0.8444, 0.2941]],\n",
            "\n",
            "        [[0.3788, 0.4567],\n",
            "         [0.0649, 0.6677],\n",
            "         [0.7826, 0.1332],\n",
            "         [0.0023, 0.4945]]])\n",
            "torch.Size([2, 4, 2])\n"
          ]
        }
      ]
    },
    {
      "cell_type": "markdown",
      "metadata": {
        "id": "cW_ee0wsull6"
      },
      "source": [
        "Let's unpack what we just did:\n",
        "\n",
        "-   We created a tensor using one of the numerous factory methods\n",
        "    attached to the `torch` module.\n",
        "-   The tensor itself is 2-dimensional, having 3 rows and 4 columns.\n",
        "-   The type of the object returned is `torch.Tensor`, which is an alias\n",
        "    for `torch.FloatTensor`; by default, PyTorch tensors are populated\n",
        "    with 32-bit floating point numbers. (More on data types below.)\n",
        "-   You will probably see some random-looking values when printing your\n",
        "    tensor. The `torch.empty()` call allocates memory for the tensor,\n",
        "    but does not initialize it with any values - so what you're seeing\n",
        "    is whatever was in memory at the time of allocation !!!!!!!.\n",
        "\n",
        "A brief note about tensors and their number of dimensions, and\n",
        "terminology:\n",
        "\n",
        "-   You will sometimes see a 1-dimensional tensor called a *vector.*\n",
        "-   Likewise, a 2-dimensional tensor is often referred to as a *matrix.*\n",
        "-   Anything with more than two dimensions is generally just called a\n",
        "    tensor.\n",
        "\n",
        "More often than not, you'll want to initialize your tensor with some\n",
        "value. Common cases are all zeros, all ones, or random values, and the\n",
        "`torch` module provides factory methods for all of these:\n"
      ]
    },
    {
      "cell_type": "code",
      "execution_count": 7,
      "metadata": {
        "id": "GMCo3tpkull6",
        "colab": {
          "base_uri": "https://localhost:8080/"
        },
        "outputId": "94f77546-35fa-4889-e710-916845f7cc5c"
      },
      "outputs": [
        {
          "output_type": "stream",
          "name": "stdout",
          "text": [
            "tensor([[0., 0., 0.],\n",
            "        [0., 0., 0.]])\n",
            "tensor([[1., 1., 1.],\n",
            "        [1., 1., 1.]])\n",
            "tensor([[0.3126, 0.3791, 0.3087],\n",
            "        [0.0736, 0.4216, 0.0691]])\n"
          ]
        }
      ],
      "source": [
        "zeros = torch.zeros(2, 3)\n",
        "print(zeros)\n",
        "\n",
        "ones = torch.ones(2, 3)\n",
        "print(ones)\n",
        "\n",
        "torch.manual_seed(1729)\n",
        "random = torch.rand(2, 3)\n",
        "print(random)"
      ]
    },
    {
      "cell_type": "markdown",
      "metadata": {
        "id": "oRTrySgkull7"
      },
      "source": [
        "The factory methods all do just what you'd expect - we have a tensor\n",
        "full of zeros, another full of ones, and another with random values\n",
        "between 0 and 1.\n",
        "\n",
        "Random Tensors and Seeding\n",
        "==========================\n",
        "\n",
        "Speaking of the random tensor, did you notice the call to\n",
        "`torch.manual_seed()` immediately preceding it? Initializing tensors,\n",
        "such as a model's learning weights, with random values is common but\n",
        "there are times - especially in research settings - where you'll want\n",
        "some assurance of the reproducibility of your results. Manually setting\n",
        "your random number generator's seed is the way to do this. Let's look\n",
        "more closely:\n"
      ]
    },
    {
      "cell_type": "code",
      "execution_count": 8,
      "metadata": {
        "id": "sSw5IoERull7",
        "colab": {
          "base_uri": "https://localhost:8080/"
        },
        "outputId": "b5f1aa38-debe-4e31-8672-e3b1968e2a0f"
      },
      "outputs": [
        {
          "output_type": "stream",
          "name": "stdout",
          "text": [
            "tensor([[0.3126, 0.3791, 0.3087],\n",
            "        [0.0736, 0.4216, 0.0691]])\n",
            "tensor([[0.2332, 0.4047, 0.2162],\n",
            "        [0.9927, 0.4128, 0.5938]])\n",
            "tensor([[0.3126, 0.3791, 0.3087],\n",
            "        [0.0736, 0.4216, 0.0691]])\n",
            "tensor([[0.2332, 0.4047, 0.2162],\n",
            "        [0.9927, 0.4128, 0.5938]])\n"
          ]
        }
      ],
      "source": [
        "torch.manual_seed(1729)\n",
        "random1 = torch.rand(2, 3)\n",
        "print(random1)\n",
        "\n",
        "random2 = torch.rand(2, 3)\n",
        "print(random2)\n",
        "\n",
        "torch.manual_seed(1729)\n",
        "random3 = torch.rand(2, 3)\n",
        "print(random3)\n",
        "\n",
        "random4 = torch.rand(2, 3)\n",
        "print(random4)"
      ]
    },
    {
      "cell_type": "code",
      "source": [
        "torch.manual_seed(1729)\n",
        "random3 = torch.rand(2, 3)\n",
        "print(random3)\n",
        "\n",
        "random4 = torch.rand(2, 3)\n",
        "print(random4)\n",
        "random4 = torch.rand(2, 3)\n",
        "print(random4)"
      ],
      "metadata": {
        "colab": {
          "base_uri": "https://localhost:8080/"
        },
        "id": "UL--WQk84lTa",
        "outputId": "8c42ad29-f9a4-402f-ce3e-7f2f4fa4f992"
      },
      "execution_count": 12,
      "outputs": [
        {
          "output_type": "stream",
          "name": "stdout",
          "text": [
            "tensor([[0.3126, 0.3791, 0.3087],\n",
            "        [0.0736, 0.4216, 0.0691]])\n",
            "tensor([[0.2332, 0.4047, 0.2162],\n",
            "        [0.9927, 0.4128, 0.5938]])\n",
            "tensor([[0.6128, 0.1519, 0.0453],\n",
            "        [0.5035, 0.9978, 0.3884]])\n"
          ]
        }
      ]
    },
    {
      "cell_type": "code",
      "source": [
        "torch.manual_seed(1729)\n",
        "random3 = torch.rand(2, 3)\n",
        "print(random3)\n",
        "\n",
        "random4 = torch.rand(2, 3)\n",
        "print(random4)\n",
        "random4 = torch.rand(2, 3) # diky seedu, vzdy budou i zde stejne hodnoty !!!!!\n",
        "print(random4)"
      ],
      "metadata": {
        "colab": {
          "base_uri": "https://localhost:8080/"
        },
        "id": "DJAEvBzY4u2d",
        "outputId": "b236d135-95f4-43b5-b692-0152a9febd70"
      },
      "execution_count": 13,
      "outputs": [
        {
          "output_type": "stream",
          "name": "stdout",
          "text": [
            "tensor([[0.3126, 0.3791, 0.3087],\n",
            "        [0.0736, 0.4216, 0.0691]])\n",
            "tensor([[0.2332, 0.4047, 0.2162],\n",
            "        [0.9927, 0.4128, 0.5938]])\n",
            "tensor([[0.6128, 0.1519, 0.0453],\n",
            "        [0.5035, 0.9978, 0.3884]])\n"
          ]
        }
      ]
    },
    {
      "cell_type": "code",
      "source": [
        "random4 = torch.rand(2, 3)\n",
        "print(random4)\n",
        "random4 = torch.rand(2, 3)\n",
        "print(random4)"
      ],
      "metadata": {
        "colab": {
          "base_uri": "https://localhost:8080/"
        },
        "id": "A4SSgl-V4ajY",
        "outputId": "0d9b5b71-b9f6-4507-e81d-93d0e830a65f"
      },
      "execution_count": 10,
      "outputs": [
        {
          "output_type": "stream",
          "name": "stdout",
          "text": [
            "tensor([[0.6929, 0.1703, 0.1384],\n",
            "        [0.4759, 0.7481, 0.0361]])\n",
            "tensor([[0.5062, 0.8469, 0.2588],\n",
            "        [0.2707, 0.4115, 0.6839]])\n"
          ]
        }
      ]
    },
    {
      "cell_type": "markdown",
      "metadata": {
        "id": "ZMIZM8_dull7"
      },
      "source": [
        "What you should see above is that `random1` and `random3` carry\n",
        "identical values, as do `random2` and `random4`. Manually setting the\n",
        "RNG's seed resets it, so that identical computations depending on random\n",
        "number should, in most settings, provide identical results.\n",
        "\n",
        "For more information, see the [PyTorch documentation on\n",
        "reproducibility](https://pytorch.org/docs/stable/notes/randomness.html).\n",
        "\n",
        "Tensor Shapes\n",
        "=============\n",
        "\n",
        "Often, when you're performing operations on two or more tensors, they\n",
        "will need to be of the same *shape* - that is, having the same number of\n",
        "dimensions and the same number of cells in each dimension. For that, we\n",
        "have the `torch.*_like()` methods:\n"
      ]
    },
    {
      "cell_type": "code",
      "execution_count": 14,
      "metadata": {
        "id": "t4KjLVgmull7",
        "colab": {
          "base_uri": "https://localhost:8080/"
        },
        "outputId": "255e416b-2f76-4559-e164-0bba53e6986f"
      },
      "outputs": [
        {
          "output_type": "stream",
          "name": "stdout",
          "text": [
            "torch.Size([2, 2, 3])\n",
            "tensor([[[-4.5994e-18,  3.1477e-41,  2.9022e+00],\n",
            "         [ 4.4748e-41,  8.9683e-44,  0.0000e+00]],\n",
            "\n",
            "        [[ 1.1210e-43,  0.0000e+00, -3.2361e+17],\n",
            "         [ 3.1470e-41, -3.4105e-15,  3.1477e-41]]])\n",
            "torch.Size([2, 2, 3])\n",
            "tensor([[[2.9022e+00, 4.4748e-41, 2.9022e+00],\n",
            "         [4.4748e-41, 4.4842e-44, 0.0000e+00]],\n",
            "\n",
            "        [[1.1210e-43, 0.0000e+00, 2.6010e+36],\n",
            "         [7.0065e-45, 0.0000e+00, 1.4013e-45]]])\n",
            "torch.Size([2, 2, 3])\n",
            "tensor([[[0., 0., 0.],\n",
            "         [0., 0., 0.]],\n",
            "\n",
            "        [[0., 0., 0.],\n",
            "         [0., 0., 0.]]])\n",
            "torch.Size([2, 2, 3])\n",
            "tensor([[[1., 1., 1.],\n",
            "         [1., 1., 1.]],\n",
            "\n",
            "        [[1., 1., 1.],\n",
            "         [1., 1., 1.]]])\n",
            "torch.Size([2, 2, 3])\n",
            "tensor([[[0.6929, 0.1703, 0.1384],\n",
            "         [0.4759, 0.7481, 0.0361]],\n",
            "\n",
            "        [[0.5062, 0.8469, 0.2588],\n",
            "         [0.2707, 0.4115, 0.6839]]])\n"
          ]
        }
      ],
      "source": [
        "x = torch.empty(2, 2, 3)\n",
        "print(x.shape)\n",
        "print(x)\n",
        "\n",
        "empty_like_x = torch.empty_like(x)\n",
        "print(empty_like_x.shape)\n",
        "print(empty_like_x)\n",
        "\n",
        "zeros_like_x = torch.zeros_like(x)\n",
        "print(zeros_like_x.shape)\n",
        "print(zeros_like_x)\n",
        "\n",
        "ones_like_x = torch.ones_like(x)\n",
        "print(ones_like_x.shape)\n",
        "print(ones_like_x)\n",
        "\n",
        "rand_like_x = torch.rand_like(x)\n",
        "print(rand_like_x.shape)\n",
        "print(rand_like_x)"
      ]
    },
    {
      "cell_type": "markdown",
      "metadata": {
        "id": "a6S-q0seull7"
      },
      "source": [
        "The first new thing in the code cell above is the use of the `.shape`\n",
        "property on a tensor. This property contains a list of the extent of\n",
        "each dimension of a tensor - in our case, `x` is a three-dimensional\n",
        "tensor with shape 2 x 2 x 3.\n",
        "\n",
        "Below that, we call the `.empty_like()`, `.zeros_like()`,\n",
        "`.ones_like()`, and `.rand_like()` methods. Using the `.shape` property,\n",
        "we can verify that each of these methods returns a tensor of identical\n",
        "dimensionality and extent.\n",
        "\n",
        "The last way to create a tensor that will cover is to specify its data\n",
        "directly from a PyTorch collection:\n"
      ]
    },
    {
      "cell_type": "code",
      "execution_count": 40,
      "metadata": {
        "id": "wQZ9cBvYull7",
        "colab": {
          "base_uri": "https://localhost:8080/"
        },
        "outputId": "9b9e70be-a40f-46d1-a21f-b1281bfe62b2"
      },
      "outputs": [
        {
          "output_type": "stream",
          "name": "stdout",
          "text": [
            "tensor([[3.1416, 2.7183],\n",
            "        [1.6180, 0.0073]])\n",
            "tensor([ 2,  3,  5,  7, 11, 13, 17, 19])\n",
            "torch.Size([8])\n",
            "tensor([[2, 4, 6],\n",
            "        [3, 6, 9]])\n",
            "torch.Size([2, 3])\n"
          ]
        }
      ],
      "source": [
        "some_constants = torch.tensor([[3.1415926, 2.71828], [1.61803, 0.0072897]])\n",
        "print(some_constants)\n",
        "\n",
        "some_integers = torch.tensor((2, 3, 5, 7, 11, 13, 17, 19))\n",
        "print(some_integers)\n",
        "print(some_integers.shape)\n",
        "\n",
        "more_integers = torch.tensor(((2, 4, 6), [3, 6, 9]))\n",
        "print(more_integers)\n",
        "print(more_integers.shape)"
      ]
    },
    {
      "cell_type": "markdown",
      "metadata": {
        "id": "c7fU4OYVull8"
      },
      "source": [
        "Using `torch.tensor()` is the most straightforward way to create a\n",
        "tensor if you already have data in a Python tuple or list. As shown\n",
        "above, nesting the collections will result in a multi-dimensional\n",
        "tensor.\n",
        "\n",
        "<div style=\"background-color: #54c7ec; color: #fff; font-weight: 700; padding-left: 10px; padding-top: 5px; padding-bottom: 5px\"><strong>NOTE:</strong></div>\n",
        "<div style=\"background-color: #f3f4f7; padding-left: 10px; padding-top: 10px; padding-bottom: 10px; padding-right: 10px\">\n",
        "<p><code>torch.tensor()</code> creates a copy of the data.</p>\n",
        "</div>\n",
        "\n",
        "Tensor Data Types\n",
        "=================\n",
        "\n",
        "Setting the datatype of a tensor is possible a couple of ways:\n"
      ]
    },
    {
      "cell_type": "code",
      "execution_count": 41,
      "metadata": {
        "id": "wpsCCUZJull8",
        "colab": {
          "base_uri": "https://localhost:8080/"
        },
        "outputId": "a95aed3d-83df-4075-94e7-883518021275"
      },
      "outputs": [
        {
          "output_type": "stream",
          "name": "stdout",
          "text": [
            "tensor([[1, 1, 1],\n",
            "        [1, 1, 1]], dtype=torch.int16)\n",
            "tensor([[16.9121,  6.2997, 14.3661],\n",
            "        [ 0.2442, 18.7508,  6.3365]], dtype=torch.float64)\n",
            "tensor([[16,  6, 14],\n",
            "        [ 0, 18,  6]], dtype=torch.int32)\n"
          ]
        }
      ],
      "source": [
        "a = torch.ones((2, 3), dtype=torch.int16)\n",
        "print(a)\n",
        "\n",
        "b = torch.rand((2, 3), dtype=torch.float64) * 20.\n",
        "print(b)\n",
        "\n",
        "c = b.to(torch.int32)\n",
        "print(c)"
      ]
    },
    {
      "cell_type": "markdown",
      "metadata": {
        "id": "5bqqOs_8ull8"
      },
      "source": [
        "The simplest way to set the underlying data type of a tensor is with an\n",
        "optional argument at creation time. In the first line of the cell above,\n",
        "we set `dtype=torch.int16` for the tensor `a`. When we print `a`, we can\n",
        "see that it's full of `1` rather than `1.` - Python's subtle cue that\n",
        "this is an integer type rather than floating point.\n",
        "\n",
        "Another thing to notice about printing `a` is that, unlike when we left\n",
        "`dtype` as the default (32-bit floating point), printing the tensor also\n",
        "specifies its `dtype`.\n",
        "\n",
        "You may have also spotted that we went from specifying the tensor's\n",
        "shape as a series of integer arguments, to grouping those arguments in a\n",
        "tuple. This is not strictly necessary - PyTorch will take a series of\n",
        "initial, unlabeled integer arguments as a tensor shape - but when adding\n",
        "the optional arguments, it can make your intent more readable.\n",
        "\n",
        "The other way to set the datatype is with the `.to()` method. In the\n",
        "cell above, we create a random floating point tensor `b` in the usual\n",
        "way. Following that, we create `c` by converting `b` to a 32-bit integer\n",
        "with the `.to()` method. Note that `c` contains all the same values as\n",
        "`b`, but truncated to integers.\n",
        "\n",
        "Available data types include:\n",
        "\n",
        "-   `torch.bool`\n",
        "-   `torch.int8`\n",
        "-   `torch.uint8`\n",
        "-   `torch.int16`\n",
        "-   `torch.int32`\n",
        "-   `torch.int64`\n",
        "-   `torch.half`\n",
        "-   `torch.float`\n",
        "-   `torch.double`\n",
        "-   `torch.bfloat`\n",
        "\n",
        "Math & Logic with PyTorch Tensors\n",
        "=================================\n",
        "\n",
        "Now that you know some of the ways to create a tensor... what can you do\n",
        "with them?\n",
        "\n",
        "Let's look at basic arithmetic first, and how tensors interact with\n",
        "simple scalars:\n"
      ]
    },
    {
      "cell_type": "code",
      "execution_count": 42,
      "metadata": {
        "id": "f4bSsLhrull8",
        "colab": {
          "base_uri": "https://localhost:8080/"
        },
        "outputId": "efe90411-15b3-477c-a78c-e26c7c68091f"
      },
      "outputs": [
        {
          "output_type": "stream",
          "name": "stdout",
          "text": [
            "tensor([[1., 1.],\n",
            "        [1., 1.]])\n",
            "tensor([[2., 2.],\n",
            "        [2., 2.]])\n",
            "tensor([[3., 3.],\n",
            "        [3., 3.]])\n",
            "tensor([[4., 4.],\n",
            "        [4., 4.]])\n",
            "tensor([[1.4142, 1.4142],\n",
            "        [1.4142, 1.4142]])\n"
          ]
        }
      ],
      "source": [
        "ones = torch.zeros(2, 2) + 1\n",
        "twos = torch.ones(2, 2) * 2\n",
        "threes = (torch.ones(2, 2) * 7 - 1) / 2\n",
        "fours = twos ** 2\n",
        "sqrt2s = twos ** 0.5\n",
        "\n",
        "print(ones)\n",
        "print(twos)\n",
        "print(threes)\n",
        "print(fours)\n",
        "print(sqrt2s)"
      ]
    },
    {
      "cell_type": "markdown",
      "metadata": {
        "id": "Fqv3HAKXull8"
      },
      "source": [
        "As you can see above, arithmetic operations between tensors and scalars,\n",
        "such as addition, subtraction, multiplication, division, and\n",
        "exponentiation are distributed over every element of the tensor. Because\n",
        "the output of such an operation will be a tensor, you can chain them\n",
        "together with the usual operator precedence rules, as in the line where\n",
        "we create `threes`.\n",
        "\n",
        "Similar operations between two tensors also behave like you'd\n",
        "intuitively expect:\n"
      ]
    },
    {
      "cell_type": "code",
      "execution_count": 43,
      "metadata": {
        "id": "7Ky_JU5oull8",
        "colab": {
          "base_uri": "https://localhost:8080/"
        },
        "outputId": "400bb121-1857-4a61-d6b2-47b7f559e018"
      },
      "outputs": [
        {
          "output_type": "stream",
          "name": "stdout",
          "text": [
            "tensor([[ 2.,  4.],\n",
            "        [ 8., 16.]])\n",
            "tensor([[5., 5.],\n",
            "        [5., 5.]])\n",
            "tensor([[12., 12.],\n",
            "        [12., 12.]])\n"
          ]
        }
      ],
      "source": [
        "powers2 = twos ** torch.tensor([[1, 2], [3, 4]])\n",
        "print(powers2)\n",
        "\n",
        "fives = ones + fours\n",
        "print(fives)\n",
        "\n",
        "dozens = threes * fours\n",
        "print(dozens)"
      ]
    },
    {
      "cell_type": "markdown",
      "metadata": {
        "id": "An_jUa-yull8"
      },
      "source": [
        "It's important to note here that all of the tensors in the previous code\n",
        "cell were of identical shape. What happens when we try to perform a\n",
        "binary operation on tensors if dissimilar shape?\n",
        "\n",
        "<div style=\"background-color: #54c7ec; color: #fff; font-weight: 700; padding-left: 10px; padding-top: 5px; padding-bottom: 5px\"><strong>NOTE:</strong></div>\n",
        "<div style=\"background-color: #f3f4f7; padding-left: 10px; padding-top: 10px; padding-bottom: 10px; padding-right: 10px\">\n",
        "<p>The following cell throws a run-time error. This is intentional.<pre><code>a = torch.rand(2, 3)\n",
        "b = torch.rand(3, 2)</p>\n",
        "<p>print(a * b)</code></pre></p>\n",
        "</div>\n"
      ]
    },
    {
      "cell_type": "code",
      "source": [
        "# ale maticove to funguje ....:\n",
        "a = torch.rand(2, 3)\n",
        "b = torch.rand(3, 2)\n",
        "\n",
        "print(a @ b)\n",
        "print(b @ a)"
      ],
      "metadata": {
        "colab": {
          "base_uri": "https://localhost:8080/"
        },
        "id": "ZMhfQgNzCsNj",
        "outputId": "a00bf1c8-bf3c-4294-c420-c8258d3ee433"
      },
      "execution_count": 46,
      "outputs": [
        {
          "output_type": "stream",
          "name": "stdout",
          "text": [
            "tensor([[0.5214, 0.2728],\n",
            "        [0.9875, 0.5156]])\n",
            "tensor([[0.2904, 0.4662, 0.2860],\n",
            "        [0.3391, 0.4940, 0.2409],\n",
            "        [0.2776, 0.4345, 0.2526]])\n"
          ]
        }
      ]
    },
    {
      "cell_type": "markdown",
      "metadata": {
        "id": "7Q4tP0Naull8"
      },
      "source": [
        "In the general case, you cannot operate on tensors of different shape\n",
        "this way, even in a case like the cell above, where the tensors have an\n",
        "identical number of elements.\n",
        "\n",
        "In Brief: Tensor Broadcasting\n",
        "=============================\n",
        "\n",
        "<div style=\"background-color: #54c7ec; color: #fff; font-weight: 700; padding-left: 10px; padding-top: 5px; padding-bottom: 5px\"><strong>NOTE:</strong></div>\n",
        "<div style=\"background-color: #f3f4f7; padding-left: 10px; padding-top: 10px; padding-bottom: 10px; padding-right: 10px\">\n",
        "<p>If you are familiar with broadcasting semantics in NumPyndarrays, you’ll find the same rules apply here.</p>\n",
        "</div>\n",
        "\n",
        "The exception to the same-shapes rule is *tensor broadcasting.* Here's\n",
        "an example:\n"
      ]
    },
    {
      "cell_type": "code",
      "execution_count": 48,
      "metadata": {
        "id": "KAFWi96Aull9",
        "colab": {
          "base_uri": "https://localhost:8080/"
        },
        "outputId": "28344d3b-f4f5-4066-b440-fe68688c5969"
      },
      "outputs": [
        {
          "output_type": "stream",
          "name": "stdout",
          "text": [
            "tensor([[0.6366, 0.2301, 0.9151, 0.5056],\n",
            "        [0.2659, 0.5251, 0.1631, 0.7391]])\n",
            "tensor([[2., 2., 2., 2.]])\n",
            "tensor([[1.2733, 0.4602, 1.8303, 1.0112],\n",
            "        [0.5319, 1.0503, 0.3263, 1.4782]])\n"
          ]
        }
      ],
      "source": [
        "rand = torch.rand(2, 4)\n",
        "\n",
        "doubled = rand * (torch.ones(1, 4) * 2)\n",
        "\n",
        "print(rand)\n",
        "print(torch.ones(1, 4) * 2)\n",
        "print(doubled)"
      ]
    },
    {
      "cell_type": "markdown",
      "metadata": {
        "id": "C_jG8I_9ull9"
      },
      "source": [
        "What's the trick here? How is it we got to multiply a 2x4 tensor by a\n",
        "1x4 tensor?\n",
        "\n",
        "Broadcasting is a way to perform an operation between tensors that have\n",
        "similarities in their shapes. In the example above, the one-row,\n",
        "four-column tensor is multiplied by *both rows* of the two-row,\n",
        "four-column tensor.\n",
        "\n",
        "This is an important operation in Deep Learning. The common example is\n",
        "multiplying a tensor of learning weights by a *batch* of input tensors,\n",
        "applying the operation to each instance in the batch separately, and\n",
        "returning a tensor of identical shape - just like our (2, 4) \\* (1, 4)\n",
        "example above returned a tensor of shape (2, 4).\n",
        "\n",
        "The rules for broadcasting are:\n",
        "\n",
        "-   Each tensor must have at least one dimension - no empty tensors.\n",
        "-   Comparing the dimension sizes of the two tensors, *going from last\n",
        "    to first:*\n",
        "    -   Each dimension must be equal, *or*\n",
        "    -   One of the dimensions must be of size 1, *or*\n",
        "    -   The dimension does not exist in one of the tensors\n",
        "\n",
        "Tensors of identical shape, of course, are trivially \"broadcastable\", as\n",
        "you saw earlier.\n",
        "\n",
        "Here are some examples of situations that honor the above rules and\n",
        "allow broadcasting:\n"
      ]
    },
    {
      "cell_type": "code",
      "execution_count": 54,
      "metadata": {
        "id": "8BE6T3Jkull9",
        "colab": {
          "base_uri": "https://localhost:8080/"
        },
        "outputId": "4893ee1d-945c-4231-cf13-e426d3134daa"
      },
      "outputs": [
        {
          "output_type": "stream",
          "name": "stdout",
          "text": [
            "tensor([[[0.5252, 0.6931],\n",
            "         [0.0412, 0.8552],\n",
            "         [0.2873, 0.8335]],\n",
            "\n",
            "        [[0.5252, 0.6931],\n",
            "         [0.0412, 0.8552],\n",
            "         [0.2873, 0.8335]],\n",
            "\n",
            "        [[0.5252, 0.6931],\n",
            "         [0.0412, 0.8552],\n",
            "         [0.2873, 0.8335]],\n",
            "\n",
            "        [[0.5252, 0.6931],\n",
            "         [0.0412, 0.8552],\n",
            "         [0.2873, 0.8335]]])\n",
            "tensor([[[0.0660, 0.0660],\n",
            "         [0.7082, 0.7082],\n",
            "         [0.9079, 0.9079]],\n",
            "\n",
            "        [[0.0660, 0.0660],\n",
            "         [0.7082, 0.7082],\n",
            "         [0.9079, 0.9079]],\n",
            "\n",
            "        [[0.0660, 0.0660],\n",
            "         [0.7082, 0.7082],\n",
            "         [0.9079, 0.9079]],\n",
            "\n",
            "        [[0.0660, 0.0660],\n",
            "         [0.7082, 0.7082],\n",
            "         [0.9079, 0.9079]]])\n",
            "tensor([[[0.6785, 0.8446],\n",
            "         [0.6785, 0.8446],\n",
            "         [0.6785, 0.8446]],\n",
            "\n",
            "        [[0.6785, 0.8446],\n",
            "         [0.6785, 0.8446],\n",
            "         [0.6785, 0.8446]],\n",
            "\n",
            "        [[0.6785, 0.8446],\n",
            "         [0.6785, 0.8446],\n",
            "         [0.6785, 0.8446]],\n",
            "\n",
            "        [[0.6785, 0.8446],\n",
            "         [0.6785, 0.8446],\n",
            "         [0.6785, 0.8446]]])\n",
            "tensor([[[0.8299, 0.6644],\n",
            "         [0.7673, 0.4209],\n",
            "         [0.3795, 0.9197]],\n",
            "\n",
            "        [[0.9399, 0.7340],\n",
            "         [0.7090, 0.8198],\n",
            "         [0.2172, 0.1861]],\n",
            "\n",
            "        [[0.7556, 0.5841],\n",
            "         [0.9205, 0.3687],\n",
            "         [0.3966, 0.7251]],\n",
            "\n",
            "        [[0.4472, 0.5901],\n",
            "         [0.1451, 0.1924],\n",
            "         [0.7354, 0.6377]]])\n"
          ]
        }
      ],
      "source": [
        "a =     torch.ones(4, 3, 2)\n",
        "# print(f\"{a}\\n\")\n",
        "\n",
        "b = a * torch.rand(   3, 2) # 3rd & 2nd dims identical to a, dim 1 absent\n",
        "print(b)\n",
        "\n",
        "c = a * torch.rand(   3, 1) # 3rd dim = 1, 2nd dim identical to a\n",
        "print(c)\n",
        "\n",
        "d = a * torch.rand(   1, 2) # 3rd dim identical to a, 2nd dim = 1\n",
        "print(d)\n",
        "\n",
        "e = a * torch.rand(4,3,2)  #  \"bradcasting\"\n",
        "print(e)"
      ]
    },
    {
      "cell_type": "markdown",
      "metadata": {
        "id": "FAdLpEkFull9"
      },
      "source": [
        "Look closely at the values of each tensor above:\n",
        "\n",
        "-   The multiplication operation that created `b` was broadcast over\n",
        "    every \"layer\" of `a`.\n",
        "-   For `c`, the operation was broadcast over every layer and row of\n",
        "    `a` - every 3-element column is identical.\n",
        "-   For `d`, we switched it around - now every *row* is identical,\n",
        "    across layers and columns.\n",
        "\n",
        "For more information on broadcasting, see the [PyTorch\n",
        "documentation](https://pytorch.org/docs/stable/notes/broadcasting.html)\n",
        "on the topic.\n",
        "\n",
        "Here are some examples of attempts at broadcasting that will fail:\n",
        "\n",
        "<div style=\"background-color: #54c7ec; color: #fff; font-weight: 700; padding-left: 10px; padding-top: 5px; padding-bottom: 5px\"><strong>NOTE:</strong></div>\n",
        "<div style=\"background-color: #f3f4f7; padding-left: 10px; padding-top: 10px; padding-bottom: 10px; padding-right: 10px\">\n",
        "<p>The following cell throws a run-time error. This is intentional.<pre><code>a =     torch.ones(4, 3, 2)</p>\n",
        "<p>b = a * torch.rand(4, 3)    # dimensions must match last-to-first</p>\n",
        "<p>c = a * torch.rand(   2, 3) # both 3rd &amp; 2nd dims different</p>\n",
        "<p>d = a * torch.rand((0, ))   # can&#x27;t broadcast with an empty tensor</code></pre></p>\n",
        "</div>\n"
      ]
    },
    {
      "cell_type": "markdown",
      "metadata": {
        "id": "K3DAx8t7ull9"
      },
      "source": [
        "More Math with Tensors\n",
        "======================\n",
        "\n",
        "PyTorch tensors have over three hundred operations that can be performed\n",
        "on them !!!!!!!!!!!!!!!!!!!!!!!!!!!!\n",
        "\n",
        "Here is a small sample from some of the major categories of operations:\n"
      ]
    },
    {
      "cell_type": "code",
      "source": [
        "# common functions\n",
        "a = torch.rand(2, 4) * 2 - 1\n",
        "print(a)\n",
        "print('Common functions:')\n",
        "print(torch.abs(a))\n",
        "print(torch.ceil(a))\n",
        "print(torch.floor(a))\n",
        "print(torch.clamp(a, -0.5, 0.5))"
      ],
      "metadata": {
        "colab": {
          "base_uri": "https://localhost:8080/"
        },
        "id": "JTH7g2PSHiwi",
        "outputId": "0c61de51-128f-4758-b598-5f3363c96af5"
      },
      "execution_count": 57,
      "outputs": [
        {
          "output_type": "stream",
          "name": "stdout",
          "text": [
            "tensor([[-0.6022,  0.2215, -0.9241,  0.6499],\n",
            "        [-0.5720,  0.7307, -0.9166,  0.0081]])\n",
            "Common functions:\n",
            "tensor([[0.6022, 0.2215, 0.9241, 0.6499],\n",
            "        [0.5720, 0.7307, 0.9166, 0.0081]])\n",
            "tensor([[-0., 1., -0., 1.],\n",
            "        [-0., 1., -0., 1.]])\n",
            "tensor([[-1.,  0., -1.,  0.],\n",
            "        [-1.,  0., -1.,  0.]])\n",
            "tensor([[-0.5000,  0.2215, -0.5000,  0.5000],\n",
            "        [-0.5000,  0.5000, -0.5000,  0.0081]])\n"
          ]
        }
      ]
    },
    {
      "cell_type": "code",
      "source": [
        "# trigonometric functions and their inverses\n",
        "angles = torch.tensor([math.pi, math.pi / 4, math.pi / 2, 3 * math.pi / 4])\n",
        "sines = torch.sin(angles)\n",
        "inverses = torch.asin(sines)\n",
        "print('\\nSine and arcsine:')\n",
        "print(angles)\n",
        "print(sines)\n",
        "print(inverses)"
      ],
      "metadata": {
        "colab": {
          "base_uri": "https://localhost:8080/"
        },
        "id": "VsIjuCMOHlKb",
        "outputId": "0ab4773e-6feb-44f1-fa1c-14c489f35b1a"
      },
      "execution_count": 59,
      "outputs": [
        {
          "output_type": "stream",
          "name": "stdout",
          "text": [
            "\n",
            "Sine and arcsine:\n",
            "tensor([3.1416, 0.7854, 1.5708, 2.3562])\n",
            "tensor([-8.7423e-08,  7.0711e-01,  1.0000e+00,  7.0711e-01])\n",
            "tensor([-8.7423e-08,  7.8540e-01,  1.5708e+00,  7.8540e-01])\n"
          ]
        }
      ]
    },
    {
      "cell_type": "code",
      "source": [
        "# bitwise operations\n",
        "print('\\nBitwise XOR:')\n",
        "b = torch.tensor([1, 5, 11])\n",
        "c = torch.tensor([2, 7, 10])\n",
        "print(torch.bitwise_xor(b, c))"
      ],
      "metadata": {
        "colab": {
          "base_uri": "https://localhost:8080/"
        },
        "id": "nWPw3dzDHo26",
        "outputId": "56191a11-8004-4daf-fdf0-cb0a38340add"
      },
      "execution_count": 62,
      "outputs": [
        {
          "output_type": "stream",
          "name": "stdout",
          "text": [
            "\n",
            "Bitwise XOR:\n",
            "tensor([3, 2, 1])\n"
          ]
        }
      ]
    },
    {
      "cell_type": "code",
      "source": [
        "# comparisons:\n",
        "print('\\nBroadcasted, element-wise equality comparison:')\n",
        "d = torch.tensor([[1., 2.], [3., 4.]])\n",
        "print(d)\n",
        "e = torch.ones(1, 2)  # many comparison ops support broadcasting!\n",
        "print(e)\n",
        "print(torch.eq(d, e)) # returns a tensor of type bool"
      ],
      "metadata": {
        "colab": {
          "base_uri": "https://localhost:8080/"
        },
        "id": "qH5Rbrk-HtA7",
        "outputId": "597f933f-31b4-4547-b08c-64c6ef84f8e3"
      },
      "execution_count": 64,
      "outputs": [
        {
          "output_type": "stream",
          "name": "stdout",
          "text": [
            "\n",
            "Broadcasted, element-wise equality comparison:\n",
            "tensor([[1., 2.],\n",
            "        [3., 4.]])\n",
            "tensor([[1., 1.]])\n",
            "tensor([[ True, False],\n",
            "        [False, False]])\n"
          ]
        }
      ]
    },
    {
      "cell_type": "code",
      "source": [
        "# reductions:\n",
        "print('\\nReduction ops:')\n",
        "print(d)\n",
        "print(torch.max(d))        # returns a single-element tensor\n",
        "print(torch.max(d).item()) # extracts the value from the returned tensor\n",
        "print(torch.mean(d))       # average\n",
        "print(torch.std(d))        # standard deviation\n",
        "print(torch.prod(d))       # product of all numbers = vynasobeni\n",
        "print(torch.unique(torch.tensor([1, 2, 1, 2, 1, 2]))) # filter unique elements"
      ],
      "metadata": {
        "colab": {
          "base_uri": "https://localhost:8080/"
        },
        "id": "6bLtWiOYHxNM",
        "outputId": "fc436eac-8fac-40b8-d0af-ad7263f28fc4"
      },
      "execution_count": 66,
      "outputs": [
        {
          "output_type": "stream",
          "name": "stdout",
          "text": [
            "\n",
            "Reduction ops:\n",
            "tensor([[1., 2.],\n",
            "        [3., 4.]])\n",
            "tensor(4.)\n",
            "4.0\n",
            "tensor(2.5000)\n",
            "tensor(1.2910)\n",
            "tensor(24.)\n",
            "tensor([1, 2])\n"
          ]
        }
      ]
    },
    {
      "cell_type": "code",
      "execution_count": 68,
      "metadata": {
        "id": "Ik3-fQEBull9",
        "colab": {
          "base_uri": "https://localhost:8080/"
        },
        "outputId": "18378c95-fcd7-48d2-a02f-78a7ce336671"
      },
      "outputs": [
        {
          "output_type": "stream",
          "name": "stdout",
          "text": [
            "\n",
            "Vectors & Matrices:\n",
            "tensor([ 0.,  0., -1.])\n",
            "tensor([[0.2622, 0.6466],\n",
            "        [0.1167, 0.0262]])\n",
            "tensor([[0.7866, 1.9397],\n",
            "        [0.3502, 0.0786]])\n",
            "torch.return_types.svd(\n",
            "U=tensor([[-0.9951, -0.0991],\n",
            "        [-0.0991,  0.9951]]),\n",
            "S=tensor([2.1032, 0.2936]),\n",
            "V=tensor([[-0.3886,  0.9214],\n",
            "        [-0.9214, -0.3886]]))\n"
          ]
        }
      ],
      "source": [
        "# vector and linear algebra operations\n",
        "v1 = torch.tensor([1., 0., 0.])         # x unit vector\n",
        "v2 = torch.tensor([0., 1., 0.])         # y unit vector\n",
        "m1 = torch.rand(2, 2)                   # random matrix\n",
        "m2 = torch.tensor([[3., 0.], [0., 3.]]) # three times identity matrix\n",
        "\n",
        "print('\\nVectors & Matrices:')\n",
        "print(torch.cross(v2, v1)) # negative of z unit vector (v1 x v2 == -v2 x v1)\n",
        "print(m1)\n",
        "m3 = torch.matmul(m1, m2)\n",
        "print(m3)                  # 3 times m1\n",
        "print(torch.svd(m3))       # singular value decomposition"
      ]
    },
    {
      "cell_type": "markdown",
      "metadata": {
        "id": "-Ke1SmEOull9"
      },
      "source": [
        "This is a small sample of operations. For more details and the full\n",
        "inventory of math functions, have a look at the\n",
        "[documentation](https://pytorch.org/docs/stable/torch.html#math-operations).\n",
        "\n",
        "Altering Tensors in Place\n",
        "=========================\n",
        "\n",
        "Most binary operations on tensors will return a third, new tensor. When\n",
        "we say `c = a * b` (where `a` and `b` are tensors), the new tensor `c`\n",
        "will occupy a region of memory distinct from the other tensors.\n",
        "\n",
        "There are times, though, that you may wish to alter a tensor in place\n",
        "-for example, if you're doing an element-wise computation where you can\n",
        "discard intermediate values. For this, most of the math functions have a\n",
        "version with an appended underscore (`_`) that will alter a tensor in\n",
        "place.\n",
        "\n",
        "For example:\n"
      ]
    },
    {
      "cell_type": "code",
      "execution_count": 69,
      "metadata": {
        "id": "0Ctc-Gdyull9",
        "colab": {
          "base_uri": "https://localhost:8080/"
        },
        "outputId": "c6bce6d7-afad-4a7b-c7c4-a4dd0e07520f"
      },
      "outputs": [
        {
          "output_type": "stream",
          "name": "stdout",
          "text": [
            "a:\n",
            "tensor([0.0000, 0.7854, 1.5708, 2.3562])\n",
            "tensor([0.0000, 0.7071, 1.0000, 0.7071])\n",
            "tensor([0.0000, 0.7854, 1.5708, 2.3562])\n",
            "\n",
            "b:\n",
            "tensor([0.0000, 0.7854, 1.5708, 2.3562])\n",
            "tensor([0.0000, 0.7071, 1.0000, 0.7071])\n",
            "tensor([0.0000, 0.7071, 1.0000, 0.7071])\n"
          ]
        }
      ],
      "source": [
        "a = torch.tensor([0, math.pi / 4, math.pi / 2, 3 * math.pi / 4])\n",
        "print('a:')\n",
        "print(a)\n",
        "print(torch.sin(a))   # this operation creates a new tensor in memory\n",
        "print(a)              # a has not changed\n",
        "\n",
        "b = torch.tensor([0, math.pi / 4, math.pi / 2, 3 * math.pi / 4])\n",
        "print('\\nb:')\n",
        "print(b)\n",
        "print(torch.sin_(b))  # note the underscore\n",
        "print(b)              # b has changed"
      ]
    },
    {
      "cell_type": "markdown",
      "metadata": {
        "id": "XZRBAQriull-"
      },
      "source": [
        "For arithmetic operations, there are functions that behave similarly:\n"
      ]
    },
    {
      "cell_type": "code",
      "execution_count": 70,
      "metadata": {
        "id": "bdUKffvKull-",
        "colab": {
          "base_uri": "https://localhost:8080/"
        },
        "outputId": "5f6fbd72-2088-4e48-f133-633b2d0187dd"
      },
      "outputs": [
        {
          "output_type": "stream",
          "name": "stdout",
          "text": [
            "Before:\n",
            "tensor([[1., 1.],\n",
            "        [1., 1.]])\n",
            "tensor([[0.3922, 0.9516],\n",
            "        [0.0343, 0.4771]])\n",
            "\n",
            "After adding:\n",
            "tensor([[1.3922, 1.9516],\n",
            "        [1.0343, 1.4771]])\n",
            "tensor([[1.3922, 1.9516],\n",
            "        [1.0343, 1.4771]])\n",
            "tensor([[0.3922, 0.9516],\n",
            "        [0.0343, 0.4771]])\n",
            "\n",
            "After multiplying\n",
            "tensor([[0.1538, 0.9055],\n",
            "        [0.0012, 0.2277]])\n",
            "tensor([[0.1538, 0.9055],\n",
            "        [0.0012, 0.2277]])\n"
          ]
        }
      ],
      "source": [
        "a = torch.ones(2, 2)\n",
        "b = torch.rand(2, 2)\n",
        "\n",
        "print('Before:')\n",
        "print(a)\n",
        "print(b)\n",
        "print('\\nAfter adding:')\n",
        "print(a.add_(b))\n",
        "print(a)\n",
        "print(b)\n",
        "print('\\nAfter multiplying')\n",
        "print(b.mul_(b))\n",
        "print(b)"
      ]
    },
    {
      "cell_type": "markdown",
      "metadata": {
        "id": "P4jZv3iqull-"
      },
      "source": [
        "Note that these in-place arithmetic functions are methods on the\n",
        "`torch.Tensor` object, not attached to the `torch` module like many\n",
        "other functions (e.g., `torch.sin()`). As you can see from `a.add_(b)`,\n",
        "*the calling tensor is the one that gets changed in place.*\n",
        "\n",
        "There is another option for placing the result of a computation in an\n",
        "existing, allocated tensor. Many of the methods and functions we've seen\n",
        "so far - including creation methods! - have an `out` argument that lets\n",
        "you specify a tensor to receive the output. If the `out` tensor is the\n",
        "correct shape and `dtype`, this can happen without a new memory\n",
        "allocation:\n"
      ]
    },
    {
      "cell_type": "code",
      "execution_count": 72,
      "metadata": {
        "id": "DRZiKbgmull-",
        "colab": {
          "base_uri": "https://localhost:8080/"
        },
        "outputId": "0377e541-603d-4d5c-fb0d-11bb7cf60ff3"
      },
      "outputs": [
        {
          "output_type": "stream",
          "name": "stdout",
          "text": [
            "137148272231104\n",
            "tensor([[0., 0.],\n",
            "        [0., 0.]])\n",
            "tensor([[0.1727, 0.5034],\n",
            "        [0.1159, 0.3066]])\n",
            "tensor([[0.9080, 0.5537],\n",
            "        [0.7126, 0.0798]])\n"
          ]
        }
      ],
      "source": [
        "a = torch.rand(2, 2)\n",
        "b = torch.rand(2, 2)\n",
        "c = torch.zeros(2, 2)\n",
        "old_id = id(c)\n",
        "print(old_id)\n",
        "\n",
        "print(c)\n",
        "d = torch.matmul(a, b, out=c)\n",
        "print(c)                # contents of c have changed\n",
        "\n",
        "assert c is d           # test c & d are same object, not just containing equal values\n",
        "assert id(c) == old_id  # make sure that our new c is the same object as the old one\n",
        "\n",
        "torch.rand(2, 2, out=c) # works for creation too!\n",
        "print(c)                # c has changed again\n",
        "assert id(c) == old_id  # still the same object!"
      ]
    },
    {
      "cell_type": "markdown",
      "metadata": {
        "id": "LejccnkHull-"
      },
      "source": [
        "Copying Tensors\n",
        "===============\n",
        "\n",
        "As with any object in Python, assigning a tensor to a variable makes the\n",
        "variable a *label* of the tensor, and does not copy it. For example:\n"
      ]
    },
    {
      "cell_type": "code",
      "execution_count": 73,
      "metadata": {
        "id": "YWWheaHEull-",
        "colab": {
          "base_uri": "https://localhost:8080/"
        },
        "outputId": "b2630263-90f4-4451-e61f-95dd4e0042ea"
      },
      "outputs": [
        {
          "output_type": "stream",
          "name": "stdout",
          "text": [
            "tensor([[  1., 561.],\n",
            "        [  1.,   1.]])\n"
          ]
        }
      ],
      "source": [
        "a = torch.ones(2, 2)\n",
        "b = a\n",
        "\n",
        "a[0][1] = 561  # we change a...\n",
        "print(b)       # ...and b is also altered"
      ]
    },
    {
      "cell_type": "markdown",
      "metadata": {
        "id": "rg4Mjpiuull-"
      },
      "source": [
        "But what if you want a separate copy of the data to work on? The\n",
        "`clone()` method is there for you:\n"
      ]
    },
    {
      "cell_type": "code",
      "execution_count": 74,
      "metadata": {
        "id": "vkasp0neull-",
        "colab": {
          "base_uri": "https://localhost:8080/"
        },
        "outputId": "e0393e2a-11fb-455d-be03-77b56c65eb38"
      },
      "outputs": [
        {
          "output_type": "stream",
          "name": "stdout",
          "text": [
            "tensor([[True, True],\n",
            "        [True, True]])\n",
            "tensor([[1., 1.],\n",
            "        [1., 1.]])\n"
          ]
        }
      ],
      "source": [
        "a = torch.ones(2, 2)\n",
        "b = a.clone()\n",
        "\n",
        "assert b is not a      # different objects in memory...\n",
        "print(torch.eq(a, b))  # ...but still with the same contents!\n",
        "\n",
        "a[0][1] = 561          # a changes...\n",
        "print(b)               # ...but b is still all ones"
      ]
    },
    {
      "cell_type": "markdown",
      "metadata": {
        "id": "as3FnZn0ulmB"
      },
      "source": [
        "**There is an important thing to be aware of when using\n",
        "\\`\\`clone()\\`\\`.** If your source tensor has autograd, enabled then so\n",
        "will the clone. **This will be covered more deeply in the video on\n",
        "autograd,** but if you want the light version of the details, continue\n",
        "on.\n",
        "\n",
        "*In many cases, this will be what you want.* For example, if your model\n",
        "has multiple computation paths in its `forward()` method, and *both* the\n",
        "original tensor and its clone contribute to the model's output, then to\n",
        "enable model learning you want autograd turned on for both tensors. If\n",
        "your source tensor has autograd enabled (which it generally will if it's\n",
        "a set of learning weights or derived from a computation involving the\n",
        "weights), then you'll get the result you want.\n",
        "\n",
        "On the other hand, if you're doing a computation where *neither* the\n",
        "original tensor nor its clone need to track gradients, then as long as\n",
        "the source tensor has autograd turned off, you're good to go.\n",
        "\n",
        "*There is a third case,* though: Imagine you're performing a computation\n",
        "in your model's `forward()` function, where gradients are turned on for\n",
        "everything by default, but you want to pull out some values mid-stream\n",
        "to generate some metrics. In this case, you *don't* want the cloned copy\n",
        "of your source tensor to track gradients - performance is improved with\n",
        "autograd's history tracking turned off. For this, you can use the\n",
        "`.detach()` method on the source tensor:\n"
      ]
    },
    {
      "cell_type": "code",
      "execution_count": 75,
      "metadata": {
        "id": "JLXXCts0ulmB",
        "colab": {
          "base_uri": "https://localhost:8080/"
        },
        "outputId": "4771171e-450a-466b-b5c6-5e4196bf60b1"
      },
      "outputs": [
        {
          "output_type": "stream",
          "name": "stdout",
          "text": [
            "tensor([[0.9061, 0.6827],\n",
            "        [0.5502, 0.2404]], requires_grad=True)\n",
            "tensor([[0.9061, 0.6827],\n",
            "        [0.5502, 0.2404]], grad_fn=<CloneBackward0>)\n",
            "tensor([[0.9061, 0.6827],\n",
            "        [0.5502, 0.2404]])\n",
            "tensor([[0.9061, 0.6827],\n",
            "        [0.5502, 0.2404]], requires_grad=True)\n"
          ]
        }
      ],
      "source": [
        "a = torch.rand(2, 2, requires_grad=True) # turn on autograd\n",
        "print(a)\n",
        "\n",
        "b = a.clone()\n",
        "print(b)\n",
        "\n",
        "c = a.detach().clone()\n",
        "print(c)\n",
        "\n",
        "print(a)"
      ]
    },
    {
      "cell_type": "markdown",
      "metadata": {
        "id": "am6vCBv4ulmB"
      },
      "source": [
        "What's happening here?\n",
        "\n",
        "-   We create `a` with `requires_grad=True` turned on. **We haven't\n",
        "    covered this optional argument yet, but will during the unit on\n",
        "    autograd.**\n",
        "-   When we print `a`, it informs us that the property\n",
        "    `requires_grad=True` - this means that autograd and computation\n",
        "    history tracking are turned on.\n",
        "-   We clone `a` and label it `b`. When we print `b`, we can see that\n",
        "    it's tracking its computation history - it has inherited `a`'s\n",
        "    autograd settings, and added to the computation history.\n",
        "-   We clone `a` into `c`, but we call `detach()` first.\n",
        "-   Printing `c`, we see no computation history, and no\n",
        "    `requires_grad=True`.\n",
        "\n",
        "The `detach()` method *detaches the tensor from its computation\n",
        "history.* It says, \"do whatever comes next as if autograd was off.\" It\n",
        "does this *without* changing `a` - you can see that when we print `a`\n",
        "again at the end, it retains its `requires_grad=True` property.\n",
        "\n",
        "Moving to GPU\n",
        "=============\n",
        "\n",
        "One of the major advantages of PyTorch is its robust acceleration on\n",
        "CUDA-compatible Nvidia GPUs. (\"CUDA\" stands for *Compute Unified Device\n",
        "Architecture*, which is Nvidia's platform for parallel computing.) So\n",
        "far, everything we've done has been on CPU. How do we move to the faster\n",
        "hardware?\n",
        "\n",
        "First, we should check whether a GPU is available, with the\n",
        "`is_available()` method.\n",
        "\n",
        "<div style=\"background-color: #54c7ec; color: #fff; font-weight: 700; padding-left: 10px; padding-top: 5px; padding-bottom: 5px\"><strong>NOTE:</strong></div>\n",
        "<div style=\"background-color: #f3f4f7; padding-left: 10px; padding-top: 10px; padding-bottom: 10px; padding-right: 10px\">\n",
        "<p>If you do not have a CUDA-compatible GPU and CUDA driversinstalled, the executable cells in this section will not execute anyGPU-related code.</p>\n",
        "</div>\n"
      ]
    },
    {
      "cell_type": "code",
      "execution_count": 76,
      "metadata": {
        "id": "cOzsbn-7ulmC",
        "colab": {
          "base_uri": "https://localhost:8080/"
        },
        "outputId": "0341d483-9472-47d4-dee8-5e9735de459e"
      },
      "outputs": [
        {
          "output_type": "stream",
          "name": "stdout",
          "text": [
            "Sorry, CPU only.\n"
          ]
        }
      ],
      "source": [
        "if torch.cuda.is_available():\n",
        "    print('We have a GPU!')\n",
        "else:\n",
        "    print('Sorry, CPU only.')"
      ]
    },
    {
      "cell_type": "markdown",
      "metadata": {
        "id": "FHEx4YtUulmC"
      },
      "source": [
        "Once we've determined that one or more GPUs is available, we need to put\n",
        "our data someplace where the GPU can see it. Your CPU does computation\n",
        "on data in your computer's RAM. Your GPU has dedicated memory attached\n",
        "to it. Whenever you want to perform a computation on a device, you must\n",
        "move *all* the data needed for that computation to memory accessible by\n",
        "that device. (Colloquially, \"moving the data to memory accessible by the\n",
        "GPU\" is shorted to, \"moving the data to the GPU\".)\n",
        "\n",
        "There are multiple ways to get your data onto your target device. You\n",
        "may do it at creation time:\n"
      ]
    },
    {
      "cell_type": "code",
      "execution_count": 77,
      "metadata": {
        "id": "H3YfW_DtulmC",
        "colab": {
          "base_uri": "https://localhost:8080/"
        },
        "outputId": "3f6dbfbb-4069-45c3-ccba-f8a322702a59"
      },
      "outputs": [
        {
          "output_type": "stream",
          "name": "stdout",
          "text": [
            "Sorry, CPU only.\n"
          ]
        }
      ],
      "source": [
        "if torch.cuda.is_available():\n",
        "    gpu_rand = torch.rand(2, 2, device='cuda')\n",
        "    print(gpu_rand)\n",
        "else:\n",
        "    print('Sorry, CPU only.')"
      ]
    },
    {
      "cell_type": "markdown",
      "metadata": {
        "id": "3uRWmr8CulmC"
      },
      "source": [
        "By default, new tensors are created on the CPU, so we have to specify\n",
        "when we want to create our tensor on the GPU with the optional `device`\n",
        "argument. You can see when we print the new tensor, PyTorch informs us\n",
        "which device it's on (if it's not on CPU).\n",
        "\n",
        "You can query the number of GPUs with `torch.cuda.device_count()`. If\n",
        "you have more than one GPU, you can specify them by index:\n",
        "`device='cuda:0'`, `device='cuda:1'`, etc.\n",
        "\n",
        "As a coding practice, specifying our devices everywhere with string\n",
        "constants is pretty fragile. In an ideal world, your code would perform\n",
        "robustly whether you're on CPU or GPU hardware. You can do this by\n",
        "creating a device handle that can be passed to your tensors instead of a\n",
        "string:\n"
      ]
    },
    {
      "cell_type": "code",
      "execution_count": 79,
      "metadata": {
        "id": "uKtFrRRiulmC",
        "colab": {
          "base_uri": "https://localhost:8080/"
        },
        "outputId": "4d8bd5e0-2f2e-4bc5-8dce-52640c5b4534"
      },
      "outputs": [
        {
          "output_type": "stream",
          "name": "stdout",
          "text": [
            "Device: cpu\n",
            "tensor([[0.3929, 0.0060],\n",
            "        [0.4110, 0.5539]])\n"
          ]
        }
      ],
      "source": [
        "if torch.cuda.is_available():\n",
        "    my_device = torch.device('cuda')\n",
        "else:\n",
        "    my_device = torch.device('cpu')\n",
        "print(f'Device: {format(my_device)}')\n",
        "\n",
        "x = torch.rand(2, 2, device=my_device)\n",
        "print(x)"
      ]
    },
    {
      "cell_type": "markdown",
      "metadata": {
        "id": "jfJxHK4UulmC"
      },
      "source": [
        "If you have an existing tensor living on one device, you can move it to\n",
        "another with the `to()` method. The following line of code creates a\n",
        "tensor on CPU, and moves it to whichever device handle you acquired in\n",
        "the previous cell.\n"
      ]
    },
    {
      "cell_type": "code",
      "execution_count": 80,
      "metadata": {
        "id": "rszrSZeOulmC"
      },
      "outputs": [],
      "source": [
        "y = torch.rand(2, 2)\n",
        "y = y.to(my_device)"
      ]
    },
    {
      "cell_type": "markdown",
      "metadata": {
        "id": "pA9jwmc4ulmC"
      },
      "source": [
        "It is important to know that in order to do computation involving two or\n",
        "more tensors, *all of the tensors must be on the same device*. The\n",
        "following code will throw a runtime error, regardless of whether you\n",
        "have a GPU device available:\n",
        "\n",
        "``` {.sourceCode .python}\n",
        "x = torch.rand(2, 2)\n",
        "y = torch.rand(2, 2, device='gpu')\n",
        "z = x + y  # exception will be thrown\n",
        "```\n"
      ]
    },
    {
      "cell_type": "markdown",
      "metadata": {
        "id": "Ls9-hhsPulmC"
      },
      "source": [
        "Manipulating Tensor Shapes\n",
        "==========================\n",
        "\n",
        "Sometimes, you'll need to change the shape of your tensor. Below, we'll\n",
        "look at a few common cases, and how to handle them.\n",
        "\n",
        "Changing the Number of Dimensions\n",
        "---------------------------------\n",
        "\n",
        "One case where you might need to change the number of dimensions is\n",
        "passing a single instance of input to your model. PyTorch models\n",
        "generally expect *batches* of input.\n",
        "\n",
        "For example, imagine having a model that works on 3 x 226 x 226 images\n",
        "-a 226-pixel square with 3 color channels. When you load and transform\n",
        "it, you'll get a tensor of shape `(3, 226, 226)`. Your model, though, is\n",
        "expecting input of shape `(N, 3, 226, 226)`, where `N` is the number of\n",
        "images in the batch. So how do you make a batch of one?\n"
      ]
    },
    {
      "cell_type": "code",
      "execution_count": 84,
      "metadata": {
        "id": "6FpKXg8qulmD",
        "colab": {
          "base_uri": "https://localhost:8080/"
        },
        "outputId": "c39510e5-4f2e-4f99-cf6c-e0b7c95ccbd7"
      },
      "outputs": [
        {
          "output_type": "stream",
          "name": "stdout",
          "text": [
            "torch.Size([3, 226, 226])\n",
            "torch.Size([1, 3, 226, 226])\n"
          ]
        }
      ],
      "source": [
        "a = torch.rand(3, 226, 226)\n",
        "b = a.unsqueeze(0)     #   !!!!! prida rozmer na 0te misto, ale \"bez hodnot\" , jen dalsi dvojici [] !!!!\n",
        "\n",
        "print(a.shape)\n",
        "print(b.shape)"
      ]
    },
    {
      "cell_type": "code",
      "source": [
        "a = torch.rand(2, 2, 2)\n",
        "b = a.unsqueeze(0)\n",
        "\n",
        "print(a.shape)\n",
        "print(a)\n",
        "print(b.shape)\n",
        "print(b)\n",
        "b[0,0,0,0] = -5\n",
        "print(b)"
      ],
      "metadata": {
        "colab": {
          "base_uri": "https://localhost:8080/"
        },
        "id": "t6_JRFsEViBu",
        "outputId": "8f245804-56ad-49ce-ff68-583dce0da637"
      },
      "execution_count": 97,
      "outputs": [
        {
          "output_type": "stream",
          "name": "stdout",
          "text": [
            "torch.Size([2, 2, 2])\n",
            "tensor([[[0.6788, 0.6234],\n",
            "         [0.7532, 0.2417]],\n",
            "\n",
            "        [[0.4595, 0.5346],\n",
            "         [0.4297, 0.1503]]])\n",
            "torch.Size([1, 2, 2, 2])\n",
            "tensor([[[[0.6788, 0.6234],\n",
            "          [0.7532, 0.2417]],\n",
            "\n",
            "         [[0.4595, 0.5346],\n",
            "          [0.4297, 0.1503]]]])\n",
            "tensor([[[[-5.0000,  0.6234],\n",
            "          [ 0.7532,  0.2417]],\n",
            "\n",
            "         [[ 0.4595,  0.5346],\n",
            "          [ 0.4297,  0.1503]]]])\n"
          ]
        }
      ]
    },
    {
      "cell_type": "code",
      "source": [
        "a = torch.rand(3,)\n",
        "b = a.unsqueeze(0)\n",
        "\n",
        "print(a.shape)\n",
        "print(a)\n",
        "print(b.shape)\n",
        "print(b)\n",
        "b[0,1] = 5\n",
        "print(b)"
      ],
      "metadata": {
        "colab": {
          "base_uri": "https://localhost:8080/"
        },
        "id": "z9p4N8TJbsj0",
        "outputId": "231f3cc1-2556-4f77-90e1-26e29625e8b8"
      },
      "execution_count": 106,
      "outputs": [
        {
          "output_type": "stream",
          "name": "stdout",
          "text": [
            "torch.Size([3])\n",
            "tensor([0.6814, 0.7492, 0.6426])\n",
            "torch.Size([1, 3])\n",
            "tensor([[0.6814, 0.7492, 0.6426]])\n",
            "tensor([[0.6814, 5.0000, 0.6426]])\n"
          ]
        }
      ]
    },
    {
      "cell_type": "markdown",
      "metadata": {
        "id": "93ghrvdIulmD"
      },
      "source": [
        "# The `unsqueeze()` method adds a dimension of extent 1.\n",
        " `unsqueeze(0)`\n",
        "adds it as a new zeroth dimension - now you have a batch of one!\n",
        "\n",
        "# So if that's *un*squeezing? What do we mean by squeezing? We're taking\n",
        "advantage of the fact that any dimension of extent 1 *does not* change\n",
        "the number of elements in the tensor.\n"
      ]
    },
    {
      "cell_type": "code",
      "execution_count": 116,
      "metadata": {
        "id": "GAcCJKV-ulmD",
        "colab": {
          "base_uri": "https://localhost:8080/"
        },
        "outputId": "e82ce225-c9ca-4f02-921a-0d843d1e724d"
      },
      "outputs": [
        {
          "output_type": "stream",
          "name": "stdout",
          "text": [
            "tensor([[[[0.4894]]]])\n"
          ]
        }
      ],
      "source": [
        "c = torch.rand(1, 1, 1, 1)\n",
        "print(c)"
      ]
    },
    {
      "cell_type": "code",
      "source": [
        "c = torch.rand(4, 1, 1, 1)\n",
        "print(c)"
      ],
      "metadata": {
        "colab": {
          "base_uri": "https://localhost:8080/"
        },
        "id": "9T5Z84_hfEtG",
        "outputId": "c04e879e-a12b-4f46-e609-919b09ba16d7"
      },
      "execution_count": 110,
      "outputs": [
        {
          "output_type": "stream",
          "name": "stdout",
          "text": [
            "tensor([[[[0.8001]]],\n",
            "\n",
            "\n",
            "        [[[0.5236]]],\n",
            "\n",
            "\n",
            "        [[[0.2723]]],\n",
            "\n",
            "\n",
            "        [[[0.9147]]]])\n"
          ]
        }
      ]
    },
    {
      "cell_type": "code",
      "source": [
        "c = torch.rand(1, 4, 1, 1)\n",
        "print(c)"
      ],
      "metadata": {
        "colab": {
          "base_uri": "https://localhost:8080/"
        },
        "id": "BXN8SHeWfQYn",
        "outputId": "361f46d6-3208-4acd-c13c-90d257900426"
      },
      "execution_count": 113,
      "outputs": [
        {
          "output_type": "stream",
          "name": "stdout",
          "text": [
            "tensor([[[[0.7129]],\n",
            "\n",
            "         [[0.3974]],\n",
            "\n",
            "         [[0.7255]],\n",
            "\n",
            "         [[0.0220]]]])\n"
          ]
        }
      ]
    },
    {
      "cell_type": "code",
      "source": [
        "c = torch.rand(1, 1, 4, 1)\n",
        "print(c)\n",
        "print(c.shape)"
      ],
      "metadata": {
        "colab": {
          "base_uri": "https://localhost:8080/"
        },
        "id": "o46TwABofhk0",
        "outputId": "168f8ab3-1ea4-4ce6-cf80-e05f5315ae0f"
      },
      "execution_count": 118,
      "outputs": [
        {
          "output_type": "stream",
          "name": "stdout",
          "text": [
            "tensor([[[[0.2793],\n",
            "          [0.8171],\n",
            "          [0.1118],\n",
            "          [0.5586]]]])\n",
            "torch.Size([1, 1, 4, 1])\n"
          ]
        }
      ]
    },
    {
      "cell_type": "code",
      "source": [
        "c = torch.rand(1,1,1,4)\n",
        "print(c)"
      ],
      "metadata": {
        "colab": {
          "base_uri": "https://localhost:8080/"
        },
        "id": "UjSDipjUfwuP",
        "outputId": "306a6ddf-6e65-4a15-dc8f-b8e20cf7869f"
      },
      "execution_count": 115,
      "outputs": [
        {
          "output_type": "stream",
          "name": "stdout",
          "text": [
            "tensor([[[[0.7184, 0.6247, 0.9688, 0.3601]]]])\n"
          ]
        }
      ]
    },
    {
      "cell_type": "markdown",
      "metadata": {
        "id": "Z2IvVMQXulmD"
      },
      "source": [
        "Continuing the example above, let's say the model's output is a\n",
        "20-element vector for each input. You would then expect the output to\n",
        "have shape `(N, 20)`, where `N` is the number of instances in the input\n",
        "batch. That means that for our single-input batch, we'll get an output\n",
        "of shape `(1, 20)`.\n",
        "\n",
        "What if you want to do some *non-batched* computation with that output\n",
        "-something that's just expecting a 20-element vector?\n"
      ]
    },
    {
      "cell_type": "code",
      "execution_count": 103,
      "metadata": {
        "id": "KqH_RfTIulmD",
        "colab": {
          "base_uri": "https://localhost:8080/"
        },
        "outputId": "72cabfc1-3d60-4b33-b87d-9c0f3c4c82e1"
      },
      "outputs": [
        {
          "output_type": "stream",
          "name": "stdout",
          "text": [
            "torch.Size([1, 20])\n",
            "tensor([[0.5975, 0.4586, 0.0690, 0.7451, 0.9497, 0.7142, 0.1974, 0.8145, 0.3046,\n",
            "         0.3978, 0.5984, 0.3807, 0.7127, 0.5564, 0.7085, 0.9421, 0.1905, 0.7015,\n",
            "         0.6474, 0.3777]])\n",
            "torch.Size([20])\n",
            "tensor([0.5975, 0.4586, 0.0690, 0.7451, 0.9497, 0.7142, 0.1974, 0.8145, 0.3046,\n",
            "        0.3978, 0.5984, 0.3807, 0.7127, 0.5564, 0.7085, 0.9421, 0.1905, 0.7015,\n",
            "        0.6474, 0.3777])\n",
            "torch.Size([2, 2])\n",
            "torch.Size([2, 2])\n"
          ]
        }
      ],
      "source": [
        "a = torch.rand(1, 20)\n",
        "print(a.shape)\n",
        "print(a)\n",
        "\n",
        "b = a.squeeze(0) # skviznout lze jen rozmer 1 !!!!!!!!! (zde na 0tem miste)\n",
        "print(b.shape)\n",
        "print(b)\n",
        "\n",
        "c = torch.rand(2, 2) # neni skviznutelne !!!\n",
        "print(c.shape)\n",
        "\n",
        "d = c.squeeze(0)\n",
        "print(d.shape)"
      ]
    },
    {
      "cell_type": "markdown",
      "metadata": {
        "id": "CYF8IQLJulmD"
      },
      "source": [
        "You can see from the shapes that our 2-dimensional tensor is now\n",
        "1-dimensional, and if you look closely at the output of the cell above\n",
        "you'll see that printing `a` shows an \"extra\" set of square brackets\n",
        "`[]` due to having an extra dimension.\n",
        "\n",
        "# You may only `squeeze()` dimensions of extent 1.\n",
        " See above where we try\n",
        "to squeeze a dimension of size 2 in `c`, and get back the same shape we\n",
        "started with.\n",
        "\n",
        "# Calls to `squeeze()` and `unsqueeze()` can only act on dimensions of extent 1 because to do otherwise would change the number of elements in the tensor.\n",
        "\n",
        "Another place you might use `unsqueeze()` is to ease broadcasting.\n",
        "Recall the example above where we had the following code:\n",
        "\n",
        "``` {.sourceCode .python}\n",
        "a = torch.ones(4, 3, 2)\n",
        "\n",
        "c = a * torch.rand(   3, 1) # 3rd dim = 1, 2nd dim identical to a\n",
        "print(c)\n",
        "```\n",
        "\n",
        "The net effect of that was to broadcast the operation over dimensions 0\n",
        "and 2, causing the random, 3 x 1 tensor to be multiplied element-wise by\n",
        "every 3-element column in `a`.\n",
        "\n",
        "What if the random vector had just been 3-element vector? We'd lose the\n",
        "ability to do the broadcast, because the final dimensions would not\n",
        "match up according to the broadcasting rules. `unsqueeze()` comes to the\n",
        "rescue:\n"
      ]
    },
    {
      "cell_type": "code",
      "execution_count": 117,
      "metadata": {
        "id": "MAagzmVUulmD",
        "colab": {
          "base_uri": "https://localhost:8080/"
        },
        "outputId": "fb9a1114-a235-4203-9d01-748b96f7d1b7"
      },
      "outputs": [
        {
          "output_type": "stream",
          "name": "stdout",
          "text": [
            "torch.Size([3, 1])\n",
            "tensor([[[0.4064, 0.4064],\n",
            "         [0.6727, 0.6727],\n",
            "         [0.5376, 0.5376]],\n",
            "\n",
            "        [[0.4064, 0.4064],\n",
            "         [0.6727, 0.6727],\n",
            "         [0.5376, 0.5376]],\n",
            "\n",
            "        [[0.4064, 0.4064],\n",
            "         [0.6727, 0.6727],\n",
            "         [0.5376, 0.5376]],\n",
            "\n",
            "        [[0.4064, 0.4064],\n",
            "         [0.6727, 0.6727],\n",
            "         [0.5376, 0.5376]]])\n"
          ]
        }
      ],
      "source": [
        "a = torch.ones(4, 3, 2)\n",
        "b = torch.rand(   3)     # trying to multiply a * b will give a runtime error\n",
        "c = b.unsqueeze(1)       # change to a 2-dimensional tensor, adding new dim at the end !!!!!!!!!!\n",
        "print(c.shape)\n",
        "print(a * c)             # broadcasting works again!"
      ]
    },
    {
      "cell_type": "markdown",
      "metadata": {
        "id": "4R-f6IljulmD"
      },
      "source": [
        "The `squeeze()` and `unsqueeze()` methods also have in-place versions,\n",
        "`squeeze_()` and `unsqueeze_()`:\n"
      ]
    },
    {
      "cell_type": "code",
      "execution_count": 119,
      "metadata": {
        "id": "pAAc8Ju8ulmD",
        "colab": {
          "base_uri": "https://localhost:8080/"
        },
        "outputId": "9dd45ab2-21df-455d-cf6a-51a92009201d"
      },
      "outputs": [
        {
          "output_type": "stream",
          "name": "stdout",
          "text": [
            "torch.Size([3, 226, 226])\n",
            "torch.Size([1, 3, 226, 226])\n"
          ]
        }
      ],
      "source": [
        "batch_me = torch.rand(3, 226, 226)\n",
        "print(batch_me.shape)\n",
        "batch_me.unsqueeze_(0)  # dobre !!!!!!!!!!!!! da to na puvodni misto\n",
        "print(batch_me.shape)"
      ]
    },
    {
      "cell_type": "markdown",
      "metadata": {
        "id": "ogACe_etulmE"
      },
      "source": [
        "Sometimes you'll want to change the shape of a tensor more radically,\n",
        "while still preserving the number of elements and their contents. One\n",
        "case where this happens is at the interface between a convolutional\n",
        "layer of a model and a linear layer of the model - this is common in\n",
        "image classification models. A convolution kernel will yield an output\n",
        "tensor of shape *features x width x height,* but the following linear\n",
        "layer expects a 1-dimensional input.\n",
        "\n",
        "# `reshape()` will do this for you, provided that the dimensions you request yield the same number of elements as the input tensor has:\n"
      ]
    },
    {
      "cell_type": "code",
      "execution_count": 120,
      "metadata": {
        "id": "9wc0uaghulmE",
        "colab": {
          "base_uri": "https://localhost:8080/"
        },
        "outputId": "d9d6b7cd-2940-461e-8df1-4c2fc5b1a77d"
      },
      "outputs": [
        {
          "output_type": "stream",
          "name": "stdout",
          "text": [
            "torch.Size([6, 20, 20])\n",
            "torch.Size([2400])\n",
            "torch.Size([2400])\n"
          ]
        }
      ],
      "source": [
        "output3d = torch.rand(6, 20, 20)\n",
        "print(output3d.shape)\n",
        "\n",
        "input1d = output3d.reshape(6 * 20 * 20)\n",
        "print(input1d.shape)\n",
        "\n",
        "# can also call it as a method on the torch module:\n",
        "print(torch.reshape(output3d, (6 * 20 * 20,)).shape)  # (6 * 20 * 20,) je tuple jednorozmerny, je tam ta ,"
      ]
    },
    {
      "cell_type": "code",
      "source": [
        "output3d = torch.rand(3, 2, 2, 2)\n",
        "print(output3d.shape)\n",
        "print(output3d)\n",
        "\n",
        "input1d = output3d.reshape(1,2,12)   # !!!!!!!!!!!\n",
        "print(input1d.shape)\n",
        "print(input1d)"
      ],
      "metadata": {
        "colab": {
          "base_uri": "https://localhost:8080/"
        },
        "id": "GQYKmfqLicxP",
        "outputId": "c3f2d26b-41f5-4462-96f1-fa23e6a3fa50"
      },
      "execution_count": 126,
      "outputs": [
        {
          "output_type": "stream",
          "name": "stdout",
          "text": [
            "torch.Size([3, 2, 2, 2])\n",
            "tensor([[[[0.5816, 0.4711],\n",
            "          [0.6697, 0.0173]],\n",
            "\n",
            "         [[0.6735, 0.4628],\n",
            "          [0.5136, 0.0540]]],\n",
            "\n",
            "\n",
            "        [[[0.0542, 0.8483],\n",
            "          [0.5701, 0.2643]],\n",
            "\n",
            "         [[0.3436, 0.2157],\n",
            "          [0.7630, 0.5934]]],\n",
            "\n",
            "\n",
            "        [[[0.3241, 0.0437],\n",
            "          [0.1038, 0.2193]],\n",
            "\n",
            "         [[0.4693, 0.2245],\n",
            "          [0.7517, 0.8580]]]])\n",
            "torch.Size([1, 2, 12])\n",
            "tensor([[[0.5816, 0.4711, 0.6697, 0.0173, 0.6735, 0.4628, 0.5136, 0.0540,\n",
            "          0.0542, 0.8483, 0.5701, 0.2643],\n",
            "         [0.3436, 0.2157, 0.7630, 0.5934, 0.3241, 0.0437, 0.1038, 0.2193,\n",
            "          0.4693, 0.2245, 0.7517, 0.8580]]])\n"
          ]
        }
      ]
    },
    {
      "cell_type": "markdown",
      "metadata": {
        "id": "KQf6ODS_ulmE"
      },
      "source": [
        "<div style=\"background-color: #54c7ec; color: #fff; font-weight: 700; padding-left: 10px; padding-top: 5px; padding-bottom: 5px\"><strong>NOTE:</strong></div>\n",
        "<div style=\"background-color: #f3f4f7; padding-left: 10px; padding-top: 10px; padding-bottom: 10px; padding-right: 10px\">\n",
        "<p>The <code>(6 * 20 * 20,)</code> argument in the final line of the cellabove is because PyTorch expects a  when specifying atensor shape - but when the shape is the first argument of a method, itlets us cheat and just use a series of integers. Here, we had to add theparentheses and comma to convince the method that this is really aone-element tuple.</p>\n",
        "</div>\n",
        "\n",
        "When it can, `reshape()` will return a *view* on the tensor to be\n",
        "changed - that is, a separate tensor object looking at the same\n",
        "underlying region of memory. *This is important:* That means any change\n",
        "made to the source tensor will be reflected in the view on that tensor,\n",
        "unless you `clone()` it.\n",
        "\n",
        "There *are* conditions, beyond the scope of this introduction, where\n",
        "`reshape()` has to return a tensor carrying a copy of the data. For more\n",
        "information, see the\n",
        "[docs](https://pytorch.org/docs/stable/torch.html#torch.reshape).\n"
      ]
    },
    {
      "cell_type": "markdown",
      "metadata": {
        "id": "wQGZgfaLulmE"
      },
      "source": [
        "NumPy Bridge\n",
        "============\n",
        "\n",
        "In the section above on broadcasting, it was mentioned that PyTorch's\n",
        "broadcast semantics are compatible with NumPy's - but the kinship\n",
        "between PyTorch and NumPy goes even deeper than that.\n",
        "\n",
        "If you have existing ML or scientific code with data stored in NumPy\n",
        "ndarrays, you may wish to express that same data as PyTorch tensors,\n",
        "whether to take advantage of PyTorch's GPU acceleration, or its\n",
        "efficient abstractions for building ML models. It's easy to switch\n",
        "between ndarrays and PyTorch tensors:\n"
      ]
    },
    {
      "cell_type": "code",
      "execution_count": 127,
      "metadata": {
        "id": "wKj5yi5-ulmE",
        "colab": {
          "base_uri": "https://localhost:8080/"
        },
        "outputId": "2888e5b9-70ae-4f2f-e4d5-d5e741c9634e"
      },
      "outputs": [
        {
          "output_type": "stream",
          "name": "stdout",
          "text": [
            "[[1. 1. 1.]\n",
            " [1. 1. 1.]]\n",
            "tensor([[1., 1., 1.],\n",
            "        [1., 1., 1.]], dtype=torch.float64)\n"
          ]
        }
      ],
      "source": [
        "import numpy as np\n",
        "\n",
        "numpy_array = np.ones((2, 3))\n",
        "print(numpy_array)\n",
        "\n",
        "pytorch_tensor = torch.from_numpy(numpy_array)\n",
        "print(pytorch_tensor)"
      ]
    },
    {
      "cell_type": "markdown",
      "metadata": {
        "id": "fiBBfl0JulmE"
      },
      "source": [
        "PyTorch creates a tensor of the same shape and containing the same data\n",
        "as the NumPy array, going so far as to keep NumPy's default 64-bit float\n",
        "data type.\n",
        "\n",
        "The conversion can just as easily go the other way:\n"
      ]
    },
    {
      "cell_type": "code",
      "execution_count": 128,
      "metadata": {
        "id": "rUbQxTF5ulmE",
        "colab": {
          "base_uri": "https://localhost:8080/"
        },
        "outputId": "e96056dd-f5b0-45e0-e3d6-64ec5e0c8e65"
      },
      "outputs": [
        {
          "output_type": "stream",
          "name": "stdout",
          "text": [
            "tensor([[0.3542, 0.0904, 0.9184],\n",
            "        [0.3069, 0.8663, 0.6311]])\n",
            "[[0.35424012 0.09039038 0.918417  ]\n",
            " [0.30691206 0.86627597 0.6310808 ]]\n"
          ]
        }
      ],
      "source": [
        "pytorch_rand = torch.rand(2, 3)\n",
        "print(pytorch_rand)\n",
        "\n",
        "numpy_rand = pytorch_rand.numpy()\n",
        "print(numpy_rand)"
      ]
    },
    {
      "cell_type": "markdown",
      "metadata": {
        "id": "KuU07dFqulmE"
      },
      "source": [
        "It is important to know that these converted objects are using *the same\n",
        "underlying memory* as their source objects, meaning that changes to one\n",
        "are reflected in the other:\n"
      ]
    },
    {
      "cell_type": "code",
      "execution_count": 129,
      "metadata": {
        "id": "XsReA3NyulmE",
        "colab": {
          "base_uri": "https://localhost:8080/"
        },
        "outputId": "5d7678ac-2390-4b98-bacd-6f2be73a611e"
      },
      "outputs": [
        {
          "output_type": "stream",
          "name": "stdout",
          "text": [
            "tensor([[ 1.,  1.,  1.],\n",
            "        [ 1., 23.,  1.]], dtype=torch.float64)\n",
            "[[ 0.35424012  0.09039038  0.918417  ]\n",
            " [ 0.30691206 17.          0.6310808 ]]\n"
          ]
        }
      ],
      "source": [
        "numpy_array[1, 1] = 23\n",
        "print(pytorch_tensor)\n",
        "\n",
        "pytorch_rand[1, 1] = 17\n",
        "print(numpy_rand)"
      ]
    }
  ],
  "metadata": {
    "kernelspec": {
      "display_name": "Python 3",
      "language": "python",
      "name": "python3"
    },
    "language_info": {
      "codemirror_mode": {
        "name": "ipython",
        "version": 3
      },
      "file_extension": ".py",
      "mimetype": "text/x-python",
      "name": "python",
      "nbconvert_exporter": "python",
      "pygments_lexer": "ipython3",
      "version": "3.10.14"
    },
    "colab": {
      "provenance": [],
      "include_colab_link": true
    }
  },
  "nbformat": 4,
  "nbformat_minor": 0
}